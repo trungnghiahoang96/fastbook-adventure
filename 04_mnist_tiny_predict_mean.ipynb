{
 "cells": [
  {
   "cell_type": "code",
   "execution_count": 1,
   "id": "641f3a07-fb7e-419e-be92-de5f1ba654bb",
   "metadata": {},
   "outputs": [],
   "source": [
    "!pip install -Uqq fastbook\n",
    "import fastbook\n",
    "\n",
    "fastbook.setup_book()"
   ]
  },
  {
   "cell_type": "code",
   "execution_count": 2,
   "id": "e78860cb-74be-4a44-b9ab-56a972d2f3f7",
   "metadata": {},
   "outputs": [],
   "source": [
    "# hide\n",
    "from fastai.vision.all import *\n",
    "\n",
    "from fastbook import *\n",
    "\n",
    "matplotlib.rc(\"image\", cmap=\"Greys\")"
   ]
  },
  {
   "cell_type": "code",
   "execution_count": 5,
   "id": "a4b47739-2e7d-4e6a-b69b-bed2fa715bd3",
   "metadata": {},
   "outputs": [
    {
     "data": {
      "text/plain": [
       "'https://s3.amazonaws.com/fast-ai-sample/mnist_tiny.tgz'"
      ]
     },
     "execution_count": 5,
     "metadata": {},
     "output_type": "execute_result"
    }
   ],
   "source": [
    "URLs.MNIST_TINY"
   ]
  },
  {
   "cell_type": "code",
   "execution_count": 6,
   "id": "fa3b98a1-92f6-4368-a337-726be4178c97",
   "metadata": {},
   "outputs": [
    {
     "data": {
      "text/html": [],
      "text/plain": [
       "<IPython.core.display.HTML object>"
      ]
     },
     "metadata": {},
     "output_type": "display_data"
    }
   ],
   "source": [
    "path = untar_data(URLs.MNIST_TINY)"
   ]
  },
  {
   "cell_type": "code",
   "execution_count": 7,
   "id": "1591cd44-ce0f-4f3a-b56d-8232ac079461",
   "metadata": {},
   "outputs": [
    {
     "data": {
      "text/plain": [
       "Path('/home/nghiaht7/.fastai/data/mnist_tiny')"
      ]
     },
     "execution_count": 7,
     "metadata": {},
     "output_type": "execute_result"
    }
   ],
   "source": [
    "# data được download on hidden files of fastai\n",
    "path"
   ]
  },
  {
   "cell_type": "code",
   "execution_count": 10,
   "id": "b2e265b1-6722-44d2-88e0-34580e624550",
   "metadata": {},
   "outputs": [],
   "source": [
    "Path.BASE_PATH = path"
   ]
  },
  {
   "cell_type": "code",
   "execution_count": 11,
   "id": "fb71a409-2628-46a4-869a-60f85fab751a",
   "metadata": {},
   "outputs": [
    {
     "data": {
      "text/plain": [
       "Path('.')"
      ]
     },
     "execution_count": 11,
     "metadata": {},
     "output_type": "execute_result"
    }
   ],
   "source": [
    "path"
   ]
  },
  {
   "cell_type": "code",
   "execution_count": 12,
   "id": "b7eec093-0608-453d-8e68-a8679aa1008b",
   "metadata": {},
   "outputs": [
    {
     "data": {
      "text/plain": [
       "(#5) [Path('train'),Path('labels.csv'),Path('models'),Path('valid'),Path('test')]"
      ]
     },
     "execution_count": 12,
     "metadata": {},
     "output_type": "execute_result"
    }
   ],
   "source": [
    "path.ls()"
   ]
  },
  {
   "cell_type": "code",
   "execution_count": 17,
   "id": "9b32d3b6-14bc-4c14-8eaf-f1aa1f7c7532",
   "metadata": {},
   "outputs": [
    {
     "data": {
      "text/plain": [
       "(#2) [Path('train/7'),Path('train/3')]"
      ]
     },
     "execution_count": 17,
     "metadata": {},
     "output_type": "execute_result"
    }
   ],
   "source": [
    "(path / \"train\").ls()"
   ]
  },
  {
   "cell_type": "code",
   "execution_count": 66,
   "id": "7d9079d1-a48f-4408-803f-12f9a5474b2d",
   "metadata": {},
   "outputs": [
    {
     "data": {
      "image/png": "[encoded data removed]",
      "text/plain": [
       "<Figure size 72x72 with 1 Axes>"
      ]
     },
     "metadata": {
      "needs_background": "light"
     },
     "output_type": "display_data"
    },
    {
     "data": {
      "image/png": "[encoded data removed]",
      "text/plain": [
       "<Figure size 72x72 with 1 Axes>"
      ]
     },
     "metadata": {
      "needs_background": "light"
     },
     "output_type": "display_data"
    },
    {
     "data": {
      "image/png": "[encoded data removed]",
      "text/plain": [
       "<Figure size 72x72 with 1 Axes>"
      ]
     },
     "metadata": {
      "needs_background": "light"
     },
     "output_type": "display_data"
    },
    {
     "data": {
      "image/png": "[encoded data removed]",
      "text/plain": [
       "<Figure size 72x72 with 1 Axes>"
      ]
     },
     "metadata": {
      "needs_background": "light"
     },
     "output_type": "display_data"
    },
    {
     "data": {
      "image/png": "[encoded data removed]",
      "text/plain": [
       "<Figure size 72x72 with 1 Axes>"
      ]
     },
     "metadata": {
      "needs_background": "light"
     },
     "output_type": "display_data"
    },
    {
     "data": {
      "image/png": "[encoded data removed]",
      "text/plain": [
       "<Figure size 72x72 with 1 Axes>"
      ]
     },
     "metadata": {
      "needs_background": "light"
     },
     "output_type": "display_data"
    },
    {
     "data": {
      "image/png": "[encoded data removed]",
      "text/plain": [
       "<Figure size 72x72 with 1 Axes>"
      ]
     },
     "metadata": {
      "needs_background": "light"
     },
     "output_type": "display_data"
    },
    {
     "data": {
      "image/png": "[encoded data removed]",
      "text/plain": [
       "<Figure size 72x72 with 1 Axes>"
      ]
     },
     "metadata": {
      "needs_background": "light"
     },
     "output_type": "display_data"
    },
    {
     "data": {
      "image/png": "[encoded data removed]",
      "text/plain": [
       "<Figure size 72x72 with 1 Axes>"
      ]
     },
     "metadata": {
      "needs_background": "light"
     },
     "output_type": "display_data"
    },
    {
     "data": {
      "image/png": "[encoded data removed]",
      "text/plain": [
       "<Figure size 72x72 with 1 Axes>"
      ]
     },
     "metadata": {
      "needs_background": "light"
     },
     "output_type": "display_data"
    }
   ],
   "source": [
    "sevens_ts_train = torch.stack([tensor(Image.open(o)) for o in (path / \"train/7\").ls()])\n",
    "# why float\n",
    "sevens_ts_train = sevens_ts_train.float() / 255\n",
    "\n",
    "sevens_ts_valid = torch.stack([tensor(Image.open(o)) for o in (path / \"valid/7\").ls()])\n",
    "sevens_ts_valid = sevens_ts_train.float() / 255\n",
    "\n",
    "\n",
    "for i in range(5):\n",
    "    show_image(sevens_ts_train[i]), show_image(sevens_ts_valid[i])"
   ]
  },
  {
   "cell_type": "code",
   "execution_count": 67,
   "id": "79a507b9-43e0-488d-b48e-26ee3517a757",
   "metadata": {},
   "outputs": [
    {
     "data": {
      "image/png": "[encoded data removed]",
      "text/plain": [
       "<Figure size 72x72 with 1 Axes>"
      ]
     },
     "metadata": {
      "needs_background": "light"
     },
     "output_type": "display_data"
    },
    {
     "data": {
      "image/png": "[encoded data removed]",
      "text/plain": [
       "<Figure size 72x72 with 1 Axes>"
      ]
     },
     "metadata": {
      "needs_background": "light"
     },
     "output_type": "display_data"
    },
    {
     "data": {
      "image/png": "[encoded data removed]",
      "text/plain": [
       "<Figure size 72x72 with 1 Axes>"
      ]
     },
     "metadata": {
      "needs_background": "light"
     },
     "output_type": "display_data"
    },
    {
     "data": {
      "image/png": "[encoded data removed]",
      "text/plain": [
       "<Figure size 72x72 with 1 Axes>"
      ]
     },
     "metadata": {
      "needs_background": "light"
     },
     "output_type": "display_data"
    },
    {
     "data": {
      "image/png": "[encoded data removed]",
      "text/plain": [
       "<Figure size 72x72 with 1 Axes>"
      ]
     },
     "metadata": {
      "needs_background": "light"
     },
     "output_type": "display_data"
    },
    {
     "data": {
      "image/png": "[encoded data removed]",
      "text/plain": [
       "<Figure size 72x72 with 1 Axes>"
      ]
     },
     "metadata": {
      "needs_background": "light"
     },
     "output_type": "display_data"
    }
   ],
   "source": [
    "threes_ts_train = torch.stack([tensor(Image.open(o)) for o in (path / \"train/3\").ls()])\n",
    "threes_ts_train = threes_ts_train.float() / 255\n",
    "\n",
    "threes_ts_valid = torch.stack([tensor(Image.open(o)) for o in (path / \"valid/3\").ls()])\n",
    "threes_ts_valid = threes_ts_valid.float() / 255\n",
    "\n",
    "\n",
    "for i in range(3):\n",
    "    show_image(threes_ts_train[i]), show_image(threes_ts_valid[i])"
   ]
  },
  {
   "cell_type": "code",
   "execution_count": 68,
   "id": "caf4ca35-2405-436a-bf04-6ea992b1eacc",
   "metadata": {},
   "outputs": [
    {
     "data": {
      "text/plain": [
       "<AxesSubplot:>"
      ]
     },
     "execution_count": 68,
     "metadata": {},
     "output_type": "execute_result"
    },
    {
     "data": {
      "image/png": "[encoded data removed]",
      "text/plain": [
       "<Figure size 72x72 with 1 Axes>"
      ]
     },
     "metadata": {
      "needs_background": "light"
     },
     "output_type": "display_data"
    }
   ],
   "source": [
    "mean_3 = threes_ts_train.mean((0))\n",
    "show_image(mean_3)"
   ]
  },
  {
   "cell_type": "code",
   "execution_count": 69,
   "id": "3428719e-903b-4048-a369-a58992f60077",
   "metadata": {},
   "outputs": [
    {
     "data": {
      "text/plain": [
       "<AxesSubplot:>"
      ]
     },
     "execution_count": 69,
     "metadata": {},
     "output_type": "execute_result"
    },
    {
     "data": {
      "image/png": "[encoded data removed]",
      "text/plain": [
       "<Figure size 72x72 with 1 Axes>"
      ]
     },
     "metadata": {
      "needs_background": "light"
     },
     "output_type": "display_data"
    }
   ],
   "source": [
    "mean_7 = sevens_ts_train.mean((0))\n",
    "show_image(mean_7)"
   ]
  },
  {
   "cell_type": "code",
   "execution_count": 80,
   "id": "3d790f37-9a5e-48ef-818f-63d9df2e1a1e",
   "metadata": {},
   "outputs": [
    {
     "data": {
      "text/html": [
       "<style type=\"text/css\">\n",
       "#T_64d9e_row0_col0, #T_64d9e_row0_col1, #T_64d9e_row0_col2, #T_64d9e_row0_col3, #T_64d9e_row0_col4, #T_64d9e_row0_col5, #T_64d9e_row0_col6, #T_64d9e_row0_col7, #T_64d9e_row0_col8, #T_64d9e_row0_col9, #T_64d9e_row0_col10, #T_64d9e_row0_col11, #T_64d9e_row0_col12, #T_64d9e_row0_col13, #T_64d9e_row0_col17, #T_64d9e_row1_col0, #T_64d9e_row1_col1, #T_64d9e_row1_col2, #T_64d9e_row1_col3, #T_64d9e_row1_col4, #T_64d9e_row1_col5, #T_64d9e_row1_col6, #T_64d9e_row1_col7, #T_64d9e_row1_col8, #T_64d9e_row1_col9, #T_64d9e_row2_col0, #T_64d9e_row2_col1, #T_64d9e_row2_col2, #T_64d9e_row2_col3, #T_64d9e_row2_col4, #T_64d9e_row2_col5, #T_64d9e_row2_col6, #T_64d9e_row2_col7, #T_64d9e_row2_col8, #T_64d9e_row3_col0, #T_64d9e_row3_col1, #T_64d9e_row3_col2, #T_64d9e_row3_col3, #T_64d9e_row3_col4, #T_64d9e_row3_col5, #T_64d9e_row3_col6, #T_64d9e_row3_col7, #T_64d9e_row3_col14, #T_64d9e_row4_col0, #T_64d9e_row4_col1, #T_64d9e_row4_col2, #T_64d9e_row4_col3, #T_64d9e_row4_col4, #T_64d9e_row4_col5, #T_64d9e_row4_col6, #T_64d9e_row4_col7, #T_64d9e_row4_col12, #T_64d9e_row4_col13, #T_64d9e_row5_col0, #T_64d9e_row5_col1, #T_64d9e_row5_col2, #T_64d9e_row5_col3, #T_64d9e_row5_col4, #T_64d9e_row5_col5, #T_64d9e_row5_col6, #T_64d9e_row5_col7, #T_64d9e_row5_col8, #T_64d9e_row5_col9, #T_64d9e_row5_col10, #T_64d9e_row5_col11, #T_64d9e_row5_col12, #T_64d9e_row5_col17, #T_64d9e_row6_col0, #T_64d9e_row6_col1, #T_64d9e_row6_col2, #T_64d9e_row6_col3, #T_64d9e_row6_col4, #T_64d9e_row6_col5, #T_64d9e_row6_col6, #T_64d9e_row6_col7, #T_64d9e_row6_col8, #T_64d9e_row6_col9, #T_64d9e_row6_col10, #T_64d9e_row6_col11, #T_64d9e_row6_col17, #T_64d9e_row7_col0, #T_64d9e_row7_col1, #T_64d9e_row7_col2, #T_64d9e_row7_col3, #T_64d9e_row7_col4, #T_64d9e_row7_col5, #T_64d9e_row7_col6, #T_64d9e_row7_col7, #T_64d9e_row7_col8, #T_64d9e_row7_col9, #T_64d9e_row7_col10, #T_64d9e_row7_col16, #T_64d9e_row7_col17, #T_64d9e_row8_col0, #T_64d9e_row8_col1, #T_64d9e_row8_col2, #T_64d9e_row8_col3, #T_64d9e_row8_col4, #T_64d9e_row8_col5, #T_64d9e_row8_col6, #T_64d9e_row8_col15, #T_64d9e_row8_col16, #T_64d9e_row8_col17, #T_64d9e_row9_col0, #T_64d9e_row9_col1, #T_64d9e_row9_col2, #T_64d9e_row9_col3, #T_64d9e_row9_col4, #T_64d9e_row9_col5, #T_64d9e_row9_col16, #T_64d9e_row9_col17, #T_64d9e_row10_col0, #T_64d9e_row10_col1, #T_64d9e_row10_col2, #T_64d9e_row10_col3, #T_64d9e_row10_col4, #T_64d9e_row10_col5, #T_64d9e_row10_col17 {\n",
       "  font-size: 6pt;\n",
       "  background-color: #ffffff;\n",
       "  color: #000000;\n",
       "}\n",
       "#T_64d9e_row0_col14, #T_64d9e_row8_col7 {\n",
       "  font-size: 6pt;\n",
       "  background-color: #f0f0f0;\n",
       "  color: #000000;\n",
       "}\n",
       "#T_64d9e_row0_col15 {\n",
       "  font-size: 6pt;\n",
       "  background-color: #dcdcdc;\n",
       "  color: #000000;\n",
       "}\n",
       "#T_64d9e_row0_col16, #T_64d9e_row7_col11 {\n",
       "  font-size: 6pt;\n",
       "  background-color: #f2f2f2;\n",
       "  color: #000000;\n",
       "}\n",
       "#T_64d9e_row1_col10 {\n",
       "  font-size: 6pt;\n",
       "  background-color: #fcfcfc;\n",
       "  color: #000000;\n",
       "}\n",
       "#T_64d9e_row1_col11, #T_64d9e_row4_col11 {\n",
       "  font-size: 6pt;\n",
       "  background-color: #eeeeee;\n",
       "  color: #000000;\n",
       "}\n",
       "#T_64d9e_row1_col12 {\n",
       "  font-size: 6pt;\n",
       "  background-color: #787878;\n",
       "  color: #f1f1f1;\n",
       "}\n",
       "#T_64d9e_row1_col13 {\n",
       "  font-size: 6pt;\n",
       "  background-color: #2f2f2f;\n",
       "  color: #f1f1f1;\n",
       "}\n",
       "#T_64d9e_row1_col14 {\n",
       "  font-size: 6pt;\n",
       "  background-color: #070707;\n",
       "  color: #f1f1f1;\n",
       "}\n",
       "#T_64d9e_row1_col15, #T_64d9e_row3_col10, #T_64d9e_row4_col15, #T_64d9e_row9_col8, #T_64d9e_row9_col9, #T_64d9e_row9_col10 {\n",
       "  font-size: 6pt;\n",
       "  background-color: #010101;\n",
       "  color: #f1f1f1;\n",
       "}\n",
       "#T_64d9e_row1_col16 {\n",
       "  font-size: 6pt;\n",
       "  background-color: #181818;\n",
       "  color: #f1f1f1;\n",
       "}\n",
       "#T_64d9e_row1_col17 {\n",
       "  font-size: 6pt;\n",
       "  background-color: #adadad;\n",
       "  color: #000000;\n",
       "}\n",
       "#T_64d9e_row2_col9 {\n",
       "  font-size: 6pt;\n",
       "  background-color: #d6d6d6;\n",
       "  color: #000000;\n",
       "}\n",
       "#T_64d9e_row2_col10 {\n",
       "  font-size: 6pt;\n",
       "  background-color: #686868;\n",
       "  color: #f1f1f1;\n",
       "}\n",
       "#T_64d9e_row2_col11, #T_64d9e_row2_col12, #T_64d9e_row2_col13, #T_64d9e_row2_col16, #T_64d9e_row2_col17, #T_64d9e_row3_col16, #T_64d9e_row5_col15, #T_64d9e_row6_col14, #T_64d9e_row7_col13, #T_64d9e_row8_col12, #T_64d9e_row8_col13, #T_64d9e_row9_col6, #T_64d9e_row9_col11, #T_64d9e_row9_col12, #T_64d9e_row9_col13, #T_64d9e_row10_col7, #T_64d9e_row10_col8, #T_64d9e_row10_col9, #T_64d9e_row10_col10, #T_64d9e_row10_col15 {\n",
       "  font-size: 6pt;\n",
       "  background-color: #000000;\n",
       "  color: #f1f1f1;\n",
       "}\n",
       "#T_64d9e_row2_col14 {\n",
       "  font-size: 6pt;\n",
       "  background-color: #303030;\n",
       "  color: #f1f1f1;\n",
       "}\n",
       "#T_64d9e_row2_col15 {\n",
       "  font-size: 6pt;\n",
       "  background-color: #1d1d1d;\n",
       "  color: #f1f1f1;\n",
       "}\n",
       "#T_64d9e_row3_col8 {\n",
       "  font-size: 6pt;\n",
       "  background-color: #aeaeae;\n",
       "  color: #000000;\n",
       "}\n",
       "#T_64d9e_row3_col9 {\n",
       "  font-size: 6pt;\n",
       "  background-color: #050505;\n",
       "  color: #f1f1f1;\n",
       "}\n",
       "#T_64d9e_row3_col11 {\n",
       "  font-size: 6pt;\n",
       "  background-color: #1a1a1a;\n",
       "  color: #f1f1f1;\n",
       "}\n",
       "#T_64d9e_row3_col12 {\n",
       "  font-size: 6pt;\n",
       "  background-color: #898989;\n",
       "  color: #f1f1f1;\n",
       "}\n",
       "#T_64d9e_row3_col13 {\n",
       "  font-size: 6pt;\n",
       "  background-color: #f6f6f6;\n",
       "  color: #000000;\n",
       "}\n",
       "#T_64d9e_row3_col15, #T_64d9e_row9_col7 {\n",
       "  font-size: 6pt;\n",
       "  background-color: #2c2c2c;\n",
       "  color: #f1f1f1;\n",
       "}\n",
       "#T_64d9e_row3_col17 {\n",
       "  font-size: 6pt;\n",
       "  background-color: #6a6a6a;\n",
       "  color: #f1f1f1;\n",
       "}\n",
       "#T_64d9e_row4_col8 {\n",
       "  font-size: 6pt;\n",
       "  background-color: #ededed;\n",
       "  color: #000000;\n",
       "}\n",
       "#T_64d9e_row4_col9 {\n",
       "  font-size: 6pt;\n",
       "  background-color: #878787;\n",
       "  color: #f1f1f1;\n",
       "}\n",
       "#T_64d9e_row4_col10 {\n",
       "  font-size: 6pt;\n",
       "  background-color: #777777;\n",
       "  color: #f1f1f1;\n",
       "}\n",
       "#T_64d9e_row4_col14 {\n",
       "  font-size: 6pt;\n",
       "  background-color: #cacaca;\n",
       "  color: #000000;\n",
       "}\n",
       "#T_64d9e_row4_col16, #T_64d9e_row8_col11 {\n",
       "  font-size: 6pt;\n",
       "  background-color: #131313;\n",
       "  color: #f1f1f1;\n",
       "}\n",
       "#T_64d9e_row4_col17 {\n",
       "  font-size: 6pt;\n",
       "  background-color: #e9e9e9;\n",
       "  color: #000000;\n",
       "}\n",
       "#T_64d9e_row5_col13 {\n",
       "  font-size: 6pt;\n",
       "  background-color: #ececec;\n",
       "  color: #000000;\n",
       "}\n",
       "#T_64d9e_row5_col14, #T_64d9e_row7_col14 {\n",
       "  font-size: 6pt;\n",
       "  background-color: #111111;\n",
       "  color: #f1f1f1;\n",
       "}\n",
       "#T_64d9e_row5_col16 {\n",
       "  font-size: 6pt;\n",
       "  background-color: #a2a2a2;\n",
       "  color: #f1f1f1;\n",
       "}\n",
       "#T_64d9e_row6_col12 {\n",
       "  font-size: 6pt;\n",
       "  background-color: #e6e6e6;\n",
       "  color: #000000;\n",
       "}\n",
       "#T_64d9e_row6_col13 {\n",
       "  font-size: 6pt;\n",
       "  background-color: #7d7d7d;\n",
       "  color: #f1f1f1;\n",
       "}\n",
       "#T_64d9e_row6_col15 {\n",
       "  font-size: 6pt;\n",
       "  background-color: #666666;\n",
       "  color: #f1f1f1;\n",
       "}\n",
       "#T_64d9e_row6_col16 {\n",
       "  font-size: 6pt;\n",
       "  background-color: #f3f3f3;\n",
       "  color: #000000;\n",
       "}\n",
       "#T_64d9e_row7_col12 {\n",
       "  font-size: 6pt;\n",
       "  background-color: #3c3c3c;\n",
       "  color: #f1f1f1;\n",
       "}\n",
       "#T_64d9e_row7_col15, #T_64d9e_row10_col13 {\n",
       "  font-size: 6pt;\n",
       "  background-color: #f4f4f4;\n",
       "  color: #000000;\n",
       "}\n",
       "#T_64d9e_row8_col8 {\n",
       "  font-size: 6pt;\n",
       "  background-color: #9c9c9c;\n",
       "  color: #f1f1f1;\n",
       "}\n",
       "#T_64d9e_row8_col9, #T_64d9e_row8_col10 {\n",
       "  font-size: 6pt;\n",
       "  background-color: #171717;\n",
       "  color: #f1f1f1;\n",
       "}\n",
       "#T_64d9e_row8_col14 {\n",
       "  font-size: 6pt;\n",
       "  background-color: #e2e2e2;\n",
       "  color: #000000;\n",
       "}\n",
       "#T_64d9e_row9_col14 {\n",
       "  font-size: 6pt;\n",
       "  background-color: #222222;\n",
       "  color: #f1f1f1;\n",
       "}\n",
       "#T_64d9e_row9_col15 {\n",
       "  font-size: 6pt;\n",
       "  background-color: #bababa;\n",
       "  color: #000000;\n",
       "}\n",
       "#T_64d9e_row10_col6 {\n",
       "  font-size: 6pt;\n",
       "  background-color: #505050;\n",
       "  color: #f1f1f1;\n",
       "}\n",
       "#T_64d9e_row10_col11 {\n",
       "  font-size: 6pt;\n",
       "  background-color: #0a0a0a;\n",
       "  color: #f1f1f1;\n",
       "}\n",
       "#T_64d9e_row10_col12 {\n",
       "  font-size: 6pt;\n",
       "  background-color: #9e9e9e;\n",
       "  color: #f1f1f1;\n",
       "}\n",
       "#T_64d9e_row10_col14 {\n",
       "  font-size: 6pt;\n",
       "  background-color: #3f3f3f;\n",
       "  color: #f1f1f1;\n",
       "}\n",
       "#T_64d9e_row10_col16 {\n",
       "  font-size: 6pt;\n",
       "  background-color: #cccccc;\n",
       "  color: #000000;\n",
       "}\n",
       "</style>\n",
       "<table id=\"T_64d9e_\">\n",
       "  <thead>\n",
       "    <tr>\n",
       "      <th class=\"blank level0\" >&nbsp;</th>\n",
       "      <th class=\"col_heading level0 col0\" >0</th>\n",
       "      <th class=\"col_heading level0 col1\" >1</th>\n",
       "      <th class=\"col_heading level0 col2\" >2</th>\n",
       "      <th class=\"col_heading level0 col3\" >3</th>\n",
       "      <th class=\"col_heading level0 col4\" >4</th>\n",
       "      <th class=\"col_heading level0 col5\" >5</th>\n",
       "      <th class=\"col_heading level0 col6\" >6</th>\n",
       "      <th class=\"col_heading level0 col7\" >7</th>\n",
       "      <th class=\"col_heading level0 col8\" >8</th>\n",
       "      <th class=\"col_heading level0 col9\" >9</th>\n",
       "      <th class=\"col_heading level0 col10\" >10</th>\n",
       "      <th class=\"col_heading level0 col11\" >11</th>\n",
       "      <th class=\"col_heading level0 col12\" >12</th>\n",
       "      <th class=\"col_heading level0 col13\" >13</th>\n",
       "      <th class=\"col_heading level0 col14\" >14</th>\n",
       "      <th class=\"col_heading level0 col15\" >15</th>\n",
       "      <th class=\"col_heading level0 col16\" >16</th>\n",
       "      <th class=\"col_heading level0 col17\" >17</th>\n",
       "    </tr>\n",
       "  </thead>\n",
       "  <tbody>\n",
       "    <tr>\n",
       "      <th id=\"T_64d9e_level0_row0\" class=\"row_heading level0 row0\" >0</th>\n",
       "      <td id=\"T_64d9e_row0_col0\" class=\"data row0 col0\" >0.000000</td>\n",
       "      <td id=\"T_64d9e_row0_col1\" class=\"data row0 col1\" >0.000000</td>\n",
       "      <td id=\"T_64d9e_row0_col2\" class=\"data row0 col2\" >0.000000</td>\n",
       "      <td id=\"T_64d9e_row0_col3\" class=\"data row0 col3\" >0.000000</td>\n",
       "      <td id=\"T_64d9e_row0_col4\" class=\"data row0 col4\" >0.000000</td>\n",
       "      <td id=\"T_64d9e_row0_col5\" class=\"data row0 col5\" >0.000000</td>\n",
       "      <td id=\"T_64d9e_row0_col6\" class=\"data row0 col6\" >0.000000</td>\n",
       "      <td id=\"T_64d9e_row0_col7\" class=\"data row0 col7\" >0.000000</td>\n",
       "      <td id=\"T_64d9e_row0_col8\" class=\"data row0 col8\" >0.000000</td>\n",
       "      <td id=\"T_64d9e_row0_col9\" class=\"data row0 col9\" >0.000000</td>\n",
       "      <td id=\"T_64d9e_row0_col10\" class=\"data row0 col10\" >0.000000</td>\n",
       "      <td id=\"T_64d9e_row0_col11\" class=\"data row0 col11\" >0.000000</td>\n",
       "      <td id=\"T_64d9e_row0_col12\" class=\"data row0 col12\" >0.000000</td>\n",
       "      <td id=\"T_64d9e_row0_col13\" class=\"data row0 col13\" >0.000000</td>\n",
       "      <td id=\"T_64d9e_row0_col14\" class=\"data row0 col14\" >0.196078</td>\n",
       "      <td id=\"T_64d9e_row0_col15\" class=\"data row0 col15\" >0.231373</td>\n",
       "      <td id=\"T_64d9e_row0_col16\" class=\"data row0 col16\" >0.105882</td>\n",
       "      <td id=\"T_64d9e_row0_col17\" class=\"data row0 col17\" >0.000000</td>\n",
       "    </tr>\n",
       "    <tr>\n",
       "      <th id=\"T_64d9e_level0_row1\" class=\"row_heading level0 row1\" >1</th>\n",
       "      <td id=\"T_64d9e_row1_col0\" class=\"data row1 col0\" >0.000000</td>\n",
       "      <td id=\"T_64d9e_row1_col1\" class=\"data row1 col1\" >0.000000</td>\n",
       "      <td id=\"T_64d9e_row1_col2\" class=\"data row1 col2\" >0.000000</td>\n",
       "      <td id=\"T_64d9e_row1_col3\" class=\"data row1 col3\" >0.000000</td>\n",
       "      <td id=\"T_64d9e_row1_col4\" class=\"data row1 col4\" >0.000000</td>\n",
       "      <td id=\"T_64d9e_row1_col5\" class=\"data row1 col5\" >0.000000</td>\n",
       "      <td id=\"T_64d9e_row1_col6\" class=\"data row1 col6\" >0.000000</td>\n",
       "      <td id=\"T_64d9e_row1_col7\" class=\"data row1 col7\" >0.000000</td>\n",
       "      <td id=\"T_64d9e_row1_col8\" class=\"data row1 col8\" >0.000000</td>\n",
       "      <td id=\"T_64d9e_row1_col9\" class=\"data row1 col9\" >0.000000</td>\n",
       "      <td id=\"T_64d9e_row1_col10\" class=\"data row1 col10\" >0.027451</td>\n",
       "      <td id=\"T_64d9e_row1_col11\" class=\"data row1 col11\" >0.137255</td>\n",
       "      <td id=\"T_64d9e_row1_col12\" class=\"data row1 col12\" >0.603922</td>\n",
       "      <td id=\"T_64d9e_row1_col13\" class=\"data row1 col13\" >0.843137</td>\n",
       "      <td id=\"T_64d9e_row1_col14\" class=\"data row1 col14\" >0.968627</td>\n",
       "      <td id=\"T_64d9e_row1_col15\" class=\"data row1 col15\" >0.992157</td>\n",
       "      <td id=\"T_64d9e_row1_col16\" class=\"data row1 col16\" >0.909804</td>\n",
       "      <td id=\"T_64d9e_row1_col17\" class=\"data row1 col17\" >0.372549</td>\n",
       "    </tr>\n",
       "    <tr>\n",
       "      <th id=\"T_64d9e_level0_row2\" class=\"row_heading level0 row2\" >2</th>\n",
       "      <td id=\"T_64d9e_row2_col0\" class=\"data row2 col0\" >0.000000</td>\n",
       "      <td id=\"T_64d9e_row2_col1\" class=\"data row2 col1\" >0.000000</td>\n",
       "      <td id=\"T_64d9e_row2_col2\" class=\"data row2 col2\" >0.000000</td>\n",
       "      <td id=\"T_64d9e_row2_col3\" class=\"data row2 col3\" >0.000000</td>\n",
       "      <td id=\"T_64d9e_row2_col4\" class=\"data row2 col4\" >0.000000</td>\n",
       "      <td id=\"T_64d9e_row2_col5\" class=\"data row2 col5\" >0.000000</td>\n",
       "      <td id=\"T_64d9e_row2_col6\" class=\"data row2 col6\" >0.000000</td>\n",
       "      <td id=\"T_64d9e_row2_col7\" class=\"data row2 col7\" >0.000000</td>\n",
       "      <td id=\"T_64d9e_row2_col8\" class=\"data row2 col8\" >0.000000</td>\n",
       "      <td id=\"T_64d9e_row2_col9\" class=\"data row2 col9\" >0.262745</td>\n",
       "      <td id=\"T_64d9e_row2_col10\" class=\"data row2 col10\" >0.662745</td>\n",
       "      <td id=\"T_64d9e_row2_col11\" class=\"data row2 col11\" >0.992157</td>\n",
       "      <td id=\"T_64d9e_row2_col12\" class=\"data row2 col12\" >0.992157</td>\n",
       "      <td id=\"T_64d9e_row2_col13\" class=\"data row2 col13\" >0.996078</td>\n",
       "      <td id=\"T_64d9e_row2_col14\" class=\"data row2 col14\" >0.847059</td>\n",
       "      <td id=\"T_64d9e_row2_col15\" class=\"data row2 col15\" >0.898039</td>\n",
       "      <td id=\"T_64d9e_row2_col16\" class=\"data row2 col16\" >0.992157</td>\n",
       "      <td id=\"T_64d9e_row2_col17\" class=\"data row2 col17\" >0.874510</td>\n",
       "    </tr>\n",
       "    <tr>\n",
       "      <th id=\"T_64d9e_level0_row3\" class=\"row_heading level0 row3\" >3</th>\n",
       "      <td id=\"T_64d9e_row3_col0\" class=\"data row3 col0\" >0.000000</td>\n",
       "      <td id=\"T_64d9e_row3_col1\" class=\"data row3 col1\" >0.000000</td>\n",
       "      <td id=\"T_64d9e_row3_col2\" class=\"data row3 col2\" >0.000000</td>\n",
       "      <td id=\"T_64d9e_row3_col3\" class=\"data row3 col3\" >0.000000</td>\n",
       "      <td id=\"T_64d9e_row3_col4\" class=\"data row3 col4\" >0.000000</td>\n",
       "      <td id=\"T_64d9e_row3_col5\" class=\"data row3 col5\" >0.000000</td>\n",
       "      <td id=\"T_64d9e_row3_col6\" class=\"data row3 col6\" >0.000000</td>\n",
       "      <td id=\"T_64d9e_row3_col7\" class=\"data row3 col7\" >0.000000</td>\n",
       "      <td id=\"T_64d9e_row3_col8\" class=\"data row3 col8\" >0.423529</td>\n",
       "      <td id=\"T_64d9e_row3_col9\" class=\"data row3 col9\" >0.980392</td>\n",
       "      <td id=\"T_64d9e_row3_col10\" class=\"data row3 col10\" >0.992157</td>\n",
       "      <td id=\"T_64d9e_row3_col11\" class=\"data row3 col11\" >0.905882</td>\n",
       "      <td id=\"T_64d9e_row3_col12\" class=\"data row3 col12\" >0.541176</td>\n",
       "      <td id=\"T_64d9e_row3_col13\" class=\"data row3 col13\" >0.074510</td>\n",
       "      <td id=\"T_64d9e_row3_col14\" class=\"data row3 col14\" >0.082353</td>\n",
       "      <td id=\"T_64d9e_row3_col15\" class=\"data row3 col15\" >0.850980</td>\n",
       "      <td id=\"T_64d9e_row3_col16\" class=\"data row3 col16\" >0.992157</td>\n",
       "      <td id=\"T_64d9e_row3_col17\" class=\"data row3 col17\" >0.576471</td>\n",
       "    </tr>\n",
       "    <tr>\n",
       "      <th id=\"T_64d9e_level0_row4\" class=\"row_heading level0 row4\" >4</th>\n",
       "      <td id=\"T_64d9e_row4_col0\" class=\"data row4 col0\" >0.000000</td>\n",
       "      <td id=\"T_64d9e_row4_col1\" class=\"data row4 col1\" >0.000000</td>\n",
       "      <td id=\"T_64d9e_row4_col2\" class=\"data row4 col2\" >0.000000</td>\n",
       "      <td id=\"T_64d9e_row4_col3\" class=\"data row4 col3\" >0.000000</td>\n",
       "      <td id=\"T_64d9e_row4_col4\" class=\"data row4 col4\" >0.000000</td>\n",
       "      <td id=\"T_64d9e_row4_col5\" class=\"data row4 col5\" >0.000000</td>\n",
       "      <td id=\"T_64d9e_row4_col6\" class=\"data row4 col6\" >0.000000</td>\n",
       "      <td id=\"T_64d9e_row4_col7\" class=\"data row4 col7\" >0.000000</td>\n",
       "      <td id=\"T_64d9e_row4_col8\" class=\"data row4 col8\" >0.141176</td>\n",
       "      <td id=\"T_64d9e_row4_col9\" class=\"data row4 col9\" >0.549020</td>\n",
       "      <td id=\"T_64d9e_row4_col10\" class=\"data row4 col10\" >0.607843</td>\n",
       "      <td id=\"T_64d9e_row4_col11\" class=\"data row4 col11\" >0.133333</td>\n",
       "      <td id=\"T_64d9e_row4_col12\" class=\"data row4 col12\" >0.000000</td>\n",
       "      <td id=\"T_64d9e_row4_col13\" class=\"data row4 col13\" >0.000000</td>\n",
       "      <td id=\"T_64d9e_row4_col14\" class=\"data row4 col14\" >0.372549</td>\n",
       "      <td id=\"T_64d9e_row4_col15\" class=\"data row4 col15\" >0.992157</td>\n",
       "      <td id=\"T_64d9e_row4_col16\" class=\"data row4 col16\" >0.929412</td>\n",
       "      <td id=\"T_64d9e_row4_col17\" class=\"data row4 col17\" >0.141176</td>\n",
       "    </tr>\n",
       "    <tr>\n",
       "      <th id=\"T_64d9e_level0_row5\" class=\"row_heading level0 row5\" >5</th>\n",
       "      <td id=\"T_64d9e_row5_col0\" class=\"data row5 col0\" >0.000000</td>\n",
       "      <td id=\"T_64d9e_row5_col1\" class=\"data row5 col1\" >0.000000</td>\n",
       "      <td id=\"T_64d9e_row5_col2\" class=\"data row5 col2\" >0.000000</td>\n",
       "      <td id=\"T_64d9e_row5_col3\" class=\"data row5 col3\" >0.000000</td>\n",
       "      <td id=\"T_64d9e_row5_col4\" class=\"data row5 col4\" >0.000000</td>\n",
       "      <td id=\"T_64d9e_row5_col5\" class=\"data row5 col5\" >0.000000</td>\n",
       "      <td id=\"T_64d9e_row5_col6\" class=\"data row5 col6\" >0.000000</td>\n",
       "      <td id=\"T_64d9e_row5_col7\" class=\"data row5 col7\" >0.000000</td>\n",
       "      <td id=\"T_64d9e_row5_col8\" class=\"data row5 col8\" >0.000000</td>\n",
       "      <td id=\"T_64d9e_row5_col9\" class=\"data row5 col9\" >0.000000</td>\n",
       "      <td id=\"T_64d9e_row5_col10\" class=\"data row5 col10\" >0.000000</td>\n",
       "      <td id=\"T_64d9e_row5_col11\" class=\"data row5 col11\" >0.000000</td>\n",
       "      <td id=\"T_64d9e_row5_col12\" class=\"data row5 col12\" >0.000000</td>\n",
       "      <td id=\"T_64d9e_row5_col13\" class=\"data row5 col13\" >0.145098</td>\n",
       "      <td id=\"T_64d9e_row5_col14\" class=\"data row5 col14\" >0.937255</td>\n",
       "      <td id=\"T_64d9e_row5_col15\" class=\"data row5 col15\" >0.996078</td>\n",
       "      <td id=\"T_64d9e_row5_col16\" class=\"data row5 col16\" >0.458824</td>\n",
       "      <td id=\"T_64d9e_row5_col17\" class=\"data row5 col17\" >0.000000</td>\n",
       "    </tr>\n",
       "    <tr>\n",
       "      <th id=\"T_64d9e_level0_row6\" class=\"row_heading level0 row6\" >6</th>\n",
       "      <td id=\"T_64d9e_row6_col0\" class=\"data row6 col0\" >0.000000</td>\n",
       "      <td id=\"T_64d9e_row6_col1\" class=\"data row6 col1\" >0.000000</td>\n",
       "      <td id=\"T_64d9e_row6_col2\" class=\"data row6 col2\" >0.000000</td>\n",
       "      <td id=\"T_64d9e_row6_col3\" class=\"data row6 col3\" >0.000000</td>\n",
       "      <td id=\"T_64d9e_row6_col4\" class=\"data row6 col4\" >0.000000</td>\n",
       "      <td id=\"T_64d9e_row6_col5\" class=\"data row6 col5\" >0.000000</td>\n",
       "      <td id=\"T_64d9e_row6_col6\" class=\"data row6 col6\" >0.000000</td>\n",
       "      <td id=\"T_64d9e_row6_col7\" class=\"data row6 col7\" >0.000000</td>\n",
       "      <td id=\"T_64d9e_row6_col8\" class=\"data row6 col8\" >0.000000</td>\n",
       "      <td id=\"T_64d9e_row6_col9\" class=\"data row6 col9\" >0.000000</td>\n",
       "      <td id=\"T_64d9e_row6_col10\" class=\"data row6 col10\" >0.000000</td>\n",
       "      <td id=\"T_64d9e_row6_col11\" class=\"data row6 col11\" >0.000000</td>\n",
       "      <td id=\"T_64d9e_row6_col12\" class=\"data row6 col12\" >0.180392</td>\n",
       "      <td id=\"T_64d9e_row6_col13\" class=\"data row6 col13\" >0.584314</td>\n",
       "      <td id=\"T_64d9e_row6_col14\" class=\"data row6 col14\" >0.992157</td>\n",
       "      <td id=\"T_64d9e_row6_col15\" class=\"data row6 col15\" >0.670588</td>\n",
       "      <td id=\"T_64d9e_row6_col16\" class=\"data row6 col16\" >0.098039</td>\n",
       "      <td id=\"T_64d9e_row6_col17\" class=\"data row6 col17\" >0.000000</td>\n",
       "    </tr>\n",
       "    <tr>\n",
       "      <th id=\"T_64d9e_level0_row7\" class=\"row_heading level0 row7\" >7</th>\n",
       "      <td id=\"T_64d9e_row7_col0\" class=\"data row7 col0\" >0.000000</td>\n",
       "      <td id=\"T_64d9e_row7_col1\" class=\"data row7 col1\" >0.000000</td>\n",
       "      <td id=\"T_64d9e_row7_col2\" class=\"data row7 col2\" >0.000000</td>\n",
       "      <td id=\"T_64d9e_row7_col3\" class=\"data row7 col3\" >0.000000</td>\n",
       "      <td id=\"T_64d9e_row7_col4\" class=\"data row7 col4\" >0.000000</td>\n",
       "      <td id=\"T_64d9e_row7_col5\" class=\"data row7 col5\" >0.000000</td>\n",
       "      <td id=\"T_64d9e_row7_col6\" class=\"data row7 col6\" >0.000000</td>\n",
       "      <td id=\"T_64d9e_row7_col7\" class=\"data row7 col7\" >0.000000</td>\n",
       "      <td id=\"T_64d9e_row7_col8\" class=\"data row7 col8\" >0.000000</td>\n",
       "      <td id=\"T_64d9e_row7_col9\" class=\"data row7 col9\" >0.000000</td>\n",
       "      <td id=\"T_64d9e_row7_col10\" class=\"data row7 col10\" >0.000000</td>\n",
       "      <td id=\"T_64d9e_row7_col11\" class=\"data row7 col11\" >0.109804</td>\n",
       "      <td id=\"T_64d9e_row7_col12\" class=\"data row7 col12\" >0.803922</td>\n",
       "      <td id=\"T_64d9e_row7_col13\" class=\"data row7 col13\" >0.996078</td>\n",
       "      <td id=\"T_64d9e_row7_col14\" class=\"data row7 col14\" >0.937255</td>\n",
       "      <td id=\"T_64d9e_row7_col15\" class=\"data row7 col15\" >0.094118</td>\n",
       "      <td id=\"T_64d9e_row7_col16\" class=\"data row7 col16\" >0.000000</td>\n",
       "      <td id=\"T_64d9e_row7_col17\" class=\"data row7 col17\" >0.000000</td>\n",
       "    </tr>\n",
       "    <tr>\n",
       "      <th id=\"T_64d9e_level0_row8\" class=\"row_heading level0 row8\" >8</th>\n",
       "      <td id=\"T_64d9e_row8_col0\" class=\"data row8 col0\" >0.000000</td>\n",
       "      <td id=\"T_64d9e_row8_col1\" class=\"data row8 col1\" >0.000000</td>\n",
       "      <td id=\"T_64d9e_row8_col2\" class=\"data row8 col2\" >0.000000</td>\n",
       "      <td id=\"T_64d9e_row8_col3\" class=\"data row8 col3\" >0.000000</td>\n",
       "      <td id=\"T_64d9e_row8_col4\" class=\"data row8 col4\" >0.000000</td>\n",
       "      <td id=\"T_64d9e_row8_col5\" class=\"data row8 col5\" >0.000000</td>\n",
       "      <td id=\"T_64d9e_row8_col6\" class=\"data row8 col6\" >0.000000</td>\n",
       "      <td id=\"T_64d9e_row8_col7\" class=\"data row8 col7\" >0.121569</td>\n",
       "      <td id=\"T_64d9e_row8_col8\" class=\"data row8 col8\" >0.482353</td>\n",
       "      <td id=\"T_64d9e_row8_col9\" class=\"data row8 col9\" >0.917647</td>\n",
       "      <td id=\"T_64d9e_row8_col10\" class=\"data row8 col10\" >0.917647</td>\n",
       "      <td id=\"T_64d9e_row8_col11\" class=\"data row8 col11\" >0.929412</td>\n",
       "      <td id=\"T_64d9e_row8_col12\" class=\"data row8 col12\" >0.992157</td>\n",
       "      <td id=\"T_64d9e_row8_col13\" class=\"data row8 col13\" >0.996078</td>\n",
       "      <td id=\"T_64d9e_row8_col14\" class=\"data row8 col14\" >0.266667</td>\n",
       "      <td id=\"T_64d9e_row8_col15\" class=\"data row8 col15\" >0.000000</td>\n",
       "      <td id=\"T_64d9e_row8_col16\" class=\"data row8 col16\" >0.000000</td>\n",
       "      <td id=\"T_64d9e_row8_col17\" class=\"data row8 col17\" >0.000000</td>\n",
       "    </tr>\n",
       "    <tr>\n",
       "      <th id=\"T_64d9e_level0_row9\" class=\"row_heading level0 row9\" >9</th>\n",
       "      <td id=\"T_64d9e_row9_col0\" class=\"data row9 col0\" >0.000000</td>\n",
       "      <td id=\"T_64d9e_row9_col1\" class=\"data row9 col1\" >0.000000</td>\n",
       "      <td id=\"T_64d9e_row9_col2\" class=\"data row9 col2\" >0.000000</td>\n",
       "      <td id=\"T_64d9e_row9_col3\" class=\"data row9 col3\" >0.000000</td>\n",
       "      <td id=\"T_64d9e_row9_col4\" class=\"data row9 col4\" >0.000000</td>\n",
       "      <td id=\"T_64d9e_row9_col5\" class=\"data row9 col5\" >0.000000</td>\n",
       "      <td id=\"T_64d9e_row9_col6\" class=\"data row9 col6\" >0.207843</td>\n",
       "      <td id=\"T_64d9e_row9_col7\" class=\"data row9 col7\" >0.850980</td>\n",
       "      <td id=\"T_64d9e_row9_col8\" class=\"data row9 col8\" >0.996078</td>\n",
       "      <td id=\"T_64d9e_row9_col9\" class=\"data row9 col9\" >0.992157</td>\n",
       "      <td id=\"T_64d9e_row9_col10\" class=\"data row9 col10\" >0.992157</td>\n",
       "      <td id=\"T_64d9e_row9_col11\" class=\"data row9 col11\" >0.992157</td>\n",
       "      <td id=\"T_64d9e_row9_col12\" class=\"data row9 col12\" >0.992157</td>\n",
       "      <td id=\"T_64d9e_row9_col13\" class=\"data row9 col13\" >0.996078</td>\n",
       "      <td id=\"T_64d9e_row9_col14\" class=\"data row9 col14\" >0.886275</td>\n",
       "      <td id=\"T_64d9e_row9_col15\" class=\"data row9 col15\" >0.384314</td>\n",
       "      <td id=\"T_64d9e_row9_col16\" class=\"data row9 col16\" >0.000000</td>\n",
       "      <td id=\"T_64d9e_row9_col17\" class=\"data row9 col17\" >0.000000</td>\n",
       "    </tr>\n",
       "    <tr>\n",
       "      <th id=\"T_64d9e_level0_row10\" class=\"row_heading level0 row10\" >10</th>\n",
       "      <td id=\"T_64d9e_row10_col0\" class=\"data row10 col0\" >0.000000</td>\n",
       "      <td id=\"T_64d9e_row10_col1\" class=\"data row10 col1\" >0.000000</td>\n",
       "      <td id=\"T_64d9e_row10_col2\" class=\"data row10 col2\" >0.000000</td>\n",
       "      <td id=\"T_64d9e_row10_col3\" class=\"data row10 col3\" >0.000000</td>\n",
       "      <td id=\"T_64d9e_row10_col4\" class=\"data row10 col4\" >0.000000</td>\n",
       "      <td id=\"T_64d9e_row10_col5\" class=\"data row10 col5\" >0.000000</td>\n",
       "      <td id=\"T_64d9e_row10_col6\" class=\"data row10 col6\" >0.156863</td>\n",
       "      <td id=\"T_64d9e_row10_col7\" class=\"data row10 col7\" >0.996078</td>\n",
       "      <td id=\"T_64d9e_row10_col8\" class=\"data row10 col8\" >1.000000</td>\n",
       "      <td id=\"T_64d9e_row10_col9\" class=\"data row10 col9\" >0.996078</td>\n",
       "      <td id=\"T_64d9e_row10_col10\" class=\"data row10 col10\" >0.996078</td>\n",
       "      <td id=\"T_64d9e_row10_col11\" class=\"data row10 col11\" >0.956863</td>\n",
       "      <td id=\"T_64d9e_row10_col12\" class=\"data row10 col12\" >0.470588</td>\n",
       "      <td id=\"T_64d9e_row10_col13\" class=\"data row10 col13\" >0.090196</td>\n",
       "      <td id=\"T_64d9e_row10_col14\" class=\"data row10 col14\" >0.811765</td>\n",
       "      <td id=\"T_64d9e_row10_col15\" class=\"data row10 col15\" >0.996078</td>\n",
       "      <td id=\"T_64d9e_row10_col16\" class=\"data row10 col16\" >0.309804</td>\n",
       "      <td id=\"T_64d9e_row10_col17\" class=\"data row10 col17\" >0.000000</td>\n",
       "    </tr>\n",
       "  </tbody>\n",
       "</table>\n"
      ],
      "text/plain": [
       "<pandas.io.formats.style.Styler at 0x7fe49e6e4370>"
      ]
     },
     "execution_count": 80,
     "metadata": {},
     "output_type": "execute_result"
    }
   ],
   "source": [
    "ex_3 = threes_ts_train[4]\n",
    "\n",
    "df = pd.DataFrame(ex_3[4:15,4:22])\n",
    "df.style.set_properties(**{'font-size':'6pt'}).background_gradient('Greys')"
   ]
  },
  {
   "cell_type": "code",
   "execution_count": 75,
   "id": "3cd798ac-2f6a-459f-b016-dc49eeab689b",
   "metadata": {},
   "outputs": [
    {
     "data": {
      "text/plain": [
       "torch.Size([346, 28, 28])"
      ]
     },
     "execution_count": 75,
     "metadata": {},
     "output_type": "execute_result"
    }
   ],
   "source": [
    "threes_ts_train.shape"
   ]
  },
  {
   "cell_type": "code",
   "execution_count": 81,
   "id": "d6036528-709c-4528-8166-83bc155f6ce8",
   "metadata": {},
   "outputs": [
    {
     "data": {
      "text/plain": [
       "tensor(0.1267)"
      ]
     },
     "execution_count": 81,
     "metadata": {},
     "output_type": "execute_result"
    }
   ],
   "source": [
    "def mnist_distance(a, b):\n",
    "    return (a-b).abs().mean((-1, -2))\n",
    "\n",
    "\n",
    "mnist_distance(mean_3, ex_3)"
   ]
  },
  {
   "cell_type": "code",
   "execution_count": 82,
   "id": "0f15bb43-026e-4b86-976f-15477942c687",
   "metadata": {},
   "outputs": [
    {
     "data": {
      "text/plain": [
       "tensor(True)"
      ]
     },
     "execution_count": 82,
     "metadata": {},
     "output_type": "execute_result"
    }
   ],
   "source": [
    "def is_3(im):\n",
    "    return mnist_distance(mean_3, im) < mnist_distance(mean_7, im)\n",
    "\n",
    "\n",
    "is_3(ex_3)"
   ]
  },
  {
   "cell_type": "code",
   "execution_count": 96,
   "id": "d1726499-8f45-4830-a3c7-04c0b88d510a",
   "metadata": {},
   "outputs": [
    {
     "name": "stdout",
     "output_type": "stream",
     "text": [
      "tensor(0.8439)\n",
      "tensor(0.9917)\n",
      "tensor(0.9335)\n",
      "tensor(1.)\n"
     ]
    }
   ],
   "source": [
    "print(train_3_acc := (is_3(threes_ts_train).float().mean()))\n",
    "print(train_7_acc := (1 - is_3(sevens_ts_train).float().mean()))\n",
    "\n",
    "print(valid_3_acc := (is_3(threes_ts_valid).float().mean()))\n",
    "print(valid_7_acc := (1- is_3(sevens_ts_valid).float().mean()))"
   ]
  },
  {
   "cell_type": "code",
   "execution_count": null,
   "id": "64d72d3f-021f-42c4-87a5-6e2ce29eebe7",
   "metadata": {},
   "outputs": [],
   "source": []
  },
  {
   "cell_type": "code",
   "execution_count": null,
   "id": "4bd9e5d7-b6da-4c05-bcb4-802a5ee12187",
   "metadata": {},
   "outputs": [],
   "source": []
  },
  {
   "cell_type": "code",
   "execution_count": null,
   "id": "9a79e0a5-be78-4e83-bc25-2cfb08abf30a",
   "metadata": {},
   "outputs": [],
   "source": []
  },
  {
   "cell_type": "code",
   "execution_count": null,
   "id": "f18cb4ff-6b5a-4149-b519-8283055f29d8",
   "metadata": {},
   "outputs": [],
   "source": [
    "\n"
   ]
  },
  {
   "cell_type": "code",
   "execution_count": null,
   "id": "3da7f709-66ba-47bb-9ecb-3a086c376207",
   "metadata": {},
   "outputs": [],
   "source": [
    "\n"
   ]
  },
  {
   "cell_type": "code",
   "execution_count": null,
   "id": "3cc67384-e95a-46b4-85cc-94701a5784d9",
   "metadata": {},
   "outputs": [],
   "source": []
  },
  {
   "cell_type": "code",
   "execution_count": null,
   "id": "671bc739-dd96-4270-a1e0-f7795f207420",
   "metadata": {},
   "outputs": [],
   "source": []
  }
 ],
 "metadata": {
  "kernelspec": {
   "display_name": "Python 3 (ipykernel)",
   "language": "python",
   "name": "python3"
  },
  "language_info": {
   "codemirror_mode": {
    "name": "ipython",
    "version": 3
   },
   "file_extension": ".py",
   "mimetype": "text/x-python",
   "name": "python",
   "nbconvert_exporter": "python",
   "pygments_lexer": "ipython3",
   "version": "3.8.10"
  }
 },
 "nbformat": 4,
 "nbformat_minor": 5
}
