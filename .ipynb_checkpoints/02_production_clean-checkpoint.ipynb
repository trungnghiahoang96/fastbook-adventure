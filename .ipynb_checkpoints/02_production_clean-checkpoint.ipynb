{
 "cells": [
  {
   "cell_type": "code",
   "execution_count": 2,
   "id": "1f59e2f3-811f-47a1-8ea5-651bad68cccb",
   "metadata": {},
   "outputs": [],
   "source": [
    "import fastbook  # import the fast.ai library\n",
    "from fastbook import *  # dont't worry, it's designed to work with import *\n",
    "\n",
    "fastbook.setup_book()\n",
    "from pathlib import Path\n",
    "\n",
    "from fastai.vision.widgets import *\n",
    "\n",
    "# import the image scraper by @JoeDockrill, website: https://joedockrill.github.io/blog/2020/09/18/jmd-imagescraper-library/\n",
    "from jmd_imagescraper.core import *\n",
    "from jmd_imagescraper.imagecleaner import *"
   ]
  },
  {
   "cell_type": "code",
   "execution_count": 3,
   "id": "3e6beab2-0213-46ec-b435-0e2f1b081a27",
   "metadata": {},
   "outputs": [
    {
     "data": {
      "text/plain": [
       "Path('/home/nghiaht7/fastai-adventure/fastai-lib-playground/bear')"
      ]
     },
     "execution_count": 3,
     "metadata": {},
     "output_type": "execute_result"
    }
   ],
   "source": [
    "root = Path().cwd() / \"bear\"\n",
    "root"
   ]
  },
  {
   "cell_type": "code",
   "execution_count": 14,
   "id": "9d1510ad-c74f-4be8-bcce-f469c74ebf6d",
   "metadata": {},
   "outputs": [
    {
     "name": "stdout",
     "output_type": "stream",
     "text": [
      "Duckduckgo search: grizzly bear\n",
      "Downloading results into /home/nghiaht7/fastai-adventure/fastai-lib-playground/bear/grizzly\n"
     ]
    },
    {
     "data": {
      "text/html": [
       "\n",
       "    <div>\n",
       "        <style>\n",
       "            /* Turns off some styling */\n",
       "            progress {\n",
       "                /* gets rid of default border in Firefox and Opera. */\n",
       "                border: none;\n",
       "                /* Needs to be in here for Safari polyfill so background images work as expected. */\n",
       "                background-size: auto;\n",
       "            }\n",
       "            .progress-bar-interrupted, .progress-bar-interrupted::-webkit-progress-bar {\n",
       "                background: #F44336;\n",
       "            }\n",
       "        </style>\n",
       "      <progress value='100' class='' max='100' style='width:300px; height:20px; vertical-align: middle;'></progress>\n",
       "      100.00% [100/100 00:24<00:00 Images downloaded]\n",
       "    </div>\n",
       "    "
      ],
      "text/plain": [
       "<IPython.core.display.HTML object>"
      ]
     },
     "metadata": {},
     "output_type": "display_data"
    },
    {
     "data": {
      "text/plain": [
       "[Path('/home/nghiaht7/fastai-adventure/fastai-lib-playground/bear/grizzly/001_996986d9.jpg'),\n",
       " Path('/home/nghiaht7/fastai-adventure/fastai-lib-playground/bear/grizzly/002_5e22384b.jpg'),\n",
       " Path('/home/nghiaht7/fastai-adventure/fastai-lib-playground/bear/grizzly/003_ac641502.jpg'),\n",
       " Path('/home/nghiaht7/fastai-adventure/fastai-lib-playground/bear/grizzly/004_2eed27c3.jpg'),\n",
       " Path('/home/nghiaht7/fastai-adventure/fastai-lib-playground/bear/grizzly/005_30a50c3a.jpg'),\n",
       " Path('/home/nghiaht7/fastai-adventure/fastai-lib-playground/bear/grizzly/006_81151170.jpg'),\n",
       " Path('/home/nghiaht7/fastai-adventure/fastai-lib-playground/bear/grizzly/007_5fdc4c3f.jpg'),\n",
       " Path('/home/nghiaht7/fastai-adventure/fastai-lib-playground/bear/grizzly/008_7f26a294.jpg'),\n",
       " Path('/home/nghiaht7/fastai-adventure/fastai-lib-playground/bear/grizzly/009_22f2014b.jpg'),\n",
       " Path('/home/nghiaht7/fastai-adventure/fastai-lib-playground/bear/grizzly/010_902fd882.jpg'),\n",
       " Path('/home/nghiaht7/fastai-adventure/fastai-lib-playground/bear/grizzly/011_41439ef5.jpg'),\n",
       " Path('/home/nghiaht7/fastai-adventure/fastai-lib-playground/bear/grizzly/012_493fd2d3.jpg'),\n",
       " Path('/home/nghiaht7/fastai-adventure/fastai-lib-playground/bear/grizzly/013_af6cc306.jpg'),\n",
       " Path('/home/nghiaht7/fastai-adventure/fastai-lib-playground/bear/grizzly/014_1475da9e.jpg'),\n",
       " Path('/home/nghiaht7/fastai-adventure/fastai-lib-playground/bear/grizzly/015_080d8dd2.jpg'),\n",
       " Path('/home/nghiaht7/fastai-adventure/fastai-lib-playground/bear/grizzly/016_e40ad5f5.jpg'),\n",
       " Path('/home/nghiaht7/fastai-adventure/fastai-lib-playground/bear/grizzly/017_a811a85a.jpg'),\n",
       " Path('/home/nghiaht7/fastai-adventure/fastai-lib-playground/bear/grizzly/018_6cdcc744.jpg'),\n",
       " Path('/home/nghiaht7/fastai-adventure/fastai-lib-playground/bear/grizzly/019_6d592905.jpg'),\n",
       " Path('/home/nghiaht7/fastai-adventure/fastai-lib-playground/bear/grizzly/020_f7f6a632.jpg'),\n",
       " Path('/home/nghiaht7/fastai-adventure/fastai-lib-playground/bear/grizzly/021_d98f8c11.jpg'),\n",
       " Path('/home/nghiaht7/fastai-adventure/fastai-lib-playground/bear/grizzly/022_94804443.jpg'),\n",
       " Path('/home/nghiaht7/fastai-adventure/fastai-lib-playground/bear/grizzly/023_49d7abb6.jpg'),\n",
       " Path('/home/nghiaht7/fastai-adventure/fastai-lib-playground/bear/grizzly/024_ff07f786.jpg'),\n",
       " Path('/home/nghiaht7/fastai-adventure/fastai-lib-playground/bear/grizzly/025_5219415b.jpg'),\n",
       " Path('/home/nghiaht7/fastai-adventure/fastai-lib-playground/bear/grizzly/026_cd28e5f6.jpg'),\n",
       " Path('/home/nghiaht7/fastai-adventure/fastai-lib-playground/bear/grizzly/027_0421625a.jpg'),\n",
       " Path('/home/nghiaht7/fastai-adventure/fastai-lib-playground/bear/grizzly/028_2c89c3f7.jpg'),\n",
       " Path('/home/nghiaht7/fastai-adventure/fastai-lib-playground/bear/grizzly/029_a8cf28b2.jpg'),\n",
       " Path('/home/nghiaht7/fastai-adventure/fastai-lib-playground/bear/grizzly/030_efeab653.jpg'),\n",
       " Path('/home/nghiaht7/fastai-adventure/fastai-lib-playground/bear/grizzly/031_ed67dbc2.jpg'),\n",
       " Path('/home/nghiaht7/fastai-adventure/fastai-lib-playground/bear/grizzly/032_5aecb0d3.jpg'),\n",
       " Path('/home/nghiaht7/fastai-adventure/fastai-lib-playground/bear/grizzly/033_c5c34eb8.jpg'),\n",
       " Path('/home/nghiaht7/fastai-adventure/fastai-lib-playground/bear/grizzly/034_b128b679.jpg'),\n",
       " Path('/home/nghiaht7/fastai-adventure/fastai-lib-playground/bear/grizzly/035_29cfbc5d.jpg'),\n",
       " Path('/home/nghiaht7/fastai-adventure/fastai-lib-playground/bear/grizzly/036_4ad69d6b.jpg'),\n",
       " Path('/home/nghiaht7/fastai-adventure/fastai-lib-playground/bear/grizzly/037_d9aff5b4.jpg'),\n",
       " Path('/home/nghiaht7/fastai-adventure/fastai-lib-playground/bear/grizzly/038_6758b95a.jpg'),\n",
       " Path('/home/nghiaht7/fastai-adventure/fastai-lib-playground/bear/grizzly/039_748968a6.jpg'),\n",
       " Path('/home/nghiaht7/fastai-adventure/fastai-lib-playground/bear/grizzly/040_314f1bea.jpg'),\n",
       " Path('/home/nghiaht7/fastai-adventure/fastai-lib-playground/bear/grizzly/041_7f951f56.jpg'),\n",
       " Path('/home/nghiaht7/fastai-adventure/fastai-lib-playground/bear/grizzly/042_a995f9cc.jpg'),\n",
       " Path('/home/nghiaht7/fastai-adventure/fastai-lib-playground/bear/grizzly/043_27ff4655.jpg'),\n",
       " Path('/home/nghiaht7/fastai-adventure/fastai-lib-playground/bear/grizzly/044_6b7087e2.jpg'),\n",
       " Path('/home/nghiaht7/fastai-adventure/fastai-lib-playground/bear/grizzly/045_896ff5c0.jpg'),\n",
       " Path('/home/nghiaht7/fastai-adventure/fastai-lib-playground/bear/grizzly/046_d121c637.jpg'),\n",
       " Path('/home/nghiaht7/fastai-adventure/fastai-lib-playground/bear/grizzly/047_41672cf0.jpg'),\n",
       " Path('/home/nghiaht7/fastai-adventure/fastai-lib-playground/bear/grizzly/048_9b0e7bee.jpg'),\n",
       " Path('/home/nghiaht7/fastai-adventure/fastai-lib-playground/bear/grizzly/049_8d9248e8.jpg'),\n",
       " Path('/home/nghiaht7/fastai-adventure/fastai-lib-playground/bear/grizzly/050_327ed60e.jpg'),\n",
       " Path('/home/nghiaht7/fastai-adventure/fastai-lib-playground/bear/grizzly/051_9cac421b.jpg'),\n",
       " Path('/home/nghiaht7/fastai-adventure/fastai-lib-playground/bear/grizzly/052_68dd4bd1.jpg'),\n",
       " Path('/home/nghiaht7/fastai-adventure/fastai-lib-playground/bear/grizzly/053_ba1727cb.jpg'),\n",
       " Path('/home/nghiaht7/fastai-adventure/fastai-lib-playground/bear/grizzly/054_0b3e1cee.jpg'),\n",
       " Path('/home/nghiaht7/fastai-adventure/fastai-lib-playground/bear/grizzly/055_8505e0bd.jpg'),\n",
       " Path('/home/nghiaht7/fastai-adventure/fastai-lib-playground/bear/grizzly/056_12a1da0c.jpg'),\n",
       " Path('/home/nghiaht7/fastai-adventure/fastai-lib-playground/bear/grizzly/057_923297cf.jpg'),\n",
       " Path('/home/nghiaht7/fastai-adventure/fastai-lib-playground/bear/grizzly/058_31d4eceb.jpg'),\n",
       " Path('/home/nghiaht7/fastai-adventure/fastai-lib-playground/bear/grizzly/059_98e32b4a.jpg'),\n",
       " Path('/home/nghiaht7/fastai-adventure/fastai-lib-playground/bear/grizzly/060_3374be98.jpg'),\n",
       " Path('/home/nghiaht7/fastai-adventure/fastai-lib-playground/bear/grizzly/061_855e609a.jpg'),\n",
       " Path('/home/nghiaht7/fastai-adventure/fastai-lib-playground/bear/grizzly/062_f2c81e59.jpg'),\n",
       " Path('/home/nghiaht7/fastai-adventure/fastai-lib-playground/bear/grizzly/063_b024ea1d.jpg'),\n",
       " Path('/home/nghiaht7/fastai-adventure/fastai-lib-playground/bear/grizzly/064_23613313.jpg'),\n",
       " Path('/home/nghiaht7/fastai-adventure/fastai-lib-playground/bear/grizzly/065_36ac72ad.jpg'),\n",
       " Path('/home/nghiaht7/fastai-adventure/fastai-lib-playground/bear/grizzly/066_574cbc5c.jpg'),\n",
       " Path('/home/nghiaht7/fastai-adventure/fastai-lib-playground/bear/grizzly/067_7eceaddb.jpg'),\n",
       " Path('/home/nghiaht7/fastai-adventure/fastai-lib-playground/bear/grizzly/068_ace34a39.jpg'),\n",
       " Path('/home/nghiaht7/fastai-adventure/fastai-lib-playground/bear/grizzly/069_b3de6f8c.jpg'),\n",
       " Path('/home/nghiaht7/fastai-adventure/fastai-lib-playground/bear/grizzly/070_34944862.jpg'),\n",
       " Path('/home/nghiaht7/fastai-adventure/fastai-lib-playground/bear/grizzly/071_0b4ad7ce.jpg'),\n",
       " Path('/home/nghiaht7/fastai-adventure/fastai-lib-playground/bear/grizzly/072_c9420fd8.jpg'),\n",
       " Path('/home/nghiaht7/fastai-adventure/fastai-lib-playground/bear/grizzly/073_4a8bff39.jpg'),\n",
       " Path('/home/nghiaht7/fastai-adventure/fastai-lib-playground/bear/grizzly/074_16b87c37.jpg'),\n",
       " Path('/home/nghiaht7/fastai-adventure/fastai-lib-playground/bear/grizzly/075_dd13a51a.jpg'),\n",
       " Path('/home/nghiaht7/fastai-adventure/fastai-lib-playground/bear/grizzly/076_3a5fefe3.jpg'),\n",
       " Path('/home/nghiaht7/fastai-adventure/fastai-lib-playground/bear/grizzly/077_0203aabe.jpg'),\n",
       " Path('/home/nghiaht7/fastai-adventure/fastai-lib-playground/bear/grizzly/078_44cf4b70.jpg'),\n",
       " Path('/home/nghiaht7/fastai-adventure/fastai-lib-playground/bear/grizzly/079_06af7398.jpg'),\n",
       " Path('/home/nghiaht7/fastai-adventure/fastai-lib-playground/bear/grizzly/080_370419f7.jpg'),\n",
       " Path('/home/nghiaht7/fastai-adventure/fastai-lib-playground/bear/grizzly/081_0081c14d.jpg'),\n",
       " Path('/home/nghiaht7/fastai-adventure/fastai-lib-playground/bear/grizzly/082_58abe626.jpg'),\n",
       " Path('/home/nghiaht7/fastai-adventure/fastai-lib-playground/bear/grizzly/083_5252f988.jpg'),\n",
       " Path('/home/nghiaht7/fastai-adventure/fastai-lib-playground/bear/grizzly/084_cda75e3f.jpg'),\n",
       " Path('/home/nghiaht7/fastai-adventure/fastai-lib-playground/bear/grizzly/085_cb61c72c.jpg'),\n",
       " Path('/home/nghiaht7/fastai-adventure/fastai-lib-playground/bear/grizzly/086_d8814126.jpg'),\n",
       " Path('/home/nghiaht7/fastai-adventure/fastai-lib-playground/bear/grizzly/087_1d278cc2.jpg'),\n",
       " Path('/home/nghiaht7/fastai-adventure/fastai-lib-playground/bear/grizzly/088_66316b58.jpg'),\n",
       " Path('/home/nghiaht7/fastai-adventure/fastai-lib-playground/bear/grizzly/089_06e8c7e8.jpg'),\n",
       " Path('/home/nghiaht7/fastai-adventure/fastai-lib-playground/bear/grizzly/090_5d9365b3.jpg'),\n",
       " Path('/home/nghiaht7/fastai-adventure/fastai-lib-playground/bear/grizzly/091_6ab79c73.jpg'),\n",
       " Path('/home/nghiaht7/fastai-adventure/fastai-lib-playground/bear/grizzly/092_8c74c51c.jpg'),\n",
       " Path('/home/nghiaht7/fastai-adventure/fastai-lib-playground/bear/grizzly/093_28f9285f.jpg'),\n",
       " Path('/home/nghiaht7/fastai-adventure/fastai-lib-playground/bear/grizzly/094_90745dfa.jpg'),\n",
       " Path('/home/nghiaht7/fastai-adventure/fastai-lib-playground/bear/grizzly/095_986f190a.jpg'),\n",
       " Path('/home/nghiaht7/fastai-adventure/fastai-lib-playground/bear/grizzly/096_df61f02a.jpg'),\n",
       " Path('/home/nghiaht7/fastai-adventure/fastai-lib-playground/bear/grizzly/097_77fe663d.jpg'),\n",
       " Path('/home/nghiaht7/fastai-adventure/fastai-lib-playground/bear/grizzly/098_f6b5e8b8.jpg'),\n",
       " Path('/home/nghiaht7/fastai-adventure/fastai-lib-playground/bear/grizzly/099_0cd21d11.jpg'),\n",
       " Path('/home/nghiaht7/fastai-adventure/fastai-lib-playground/bear/grizzly/100_7f485c71.jpg')]"
      ]
     },
     "execution_count": 14,
     "metadata": {},
     "output_type": "execute_result"
    }
   ],
   "source": [
    "duckduckgo_search(root,\"grizzly\",\"grizzly bear\",max_results=100)"
   ]
  },
  {
   "cell_type": "code",
   "execution_count": 6,
   "id": "10324535-fe42-4690-bf0f-4d6bb2696c5b",
   "metadata": {},
   "outputs": [
    {
     "name": "stdout",
     "output_type": "stream",
     "text": [
      "Duckduckgo search: black bear\n",
      "Downloading results into /home/nghiaht7/fastai-adventure/fastai-lib-playground/bear/black\n"
     ]
    },
    {
     "data": {
      "text/html": [
       "\n",
       "    <div>\n",
       "        <style>\n",
       "            /* Turns off some styling */\n",
       "            progress {\n",
       "                /* gets rid of default border in Firefox and Opera. */\n",
       "                border: none;\n",
       "                /* Needs to be in here for Safari polyfill so background images work as expected. */\n",
       "                background-size: auto;\n",
       "            }\n",
       "            .progress-bar-interrupted, .progress-bar-interrupted::-webkit-progress-bar {\n",
       "                background: #F44336;\n",
       "            }\n",
       "        </style>\n",
       "      <progress value='100' class='' max='100' style='width:300px; height:20px; vertical-align: middle;'></progress>\n",
       "      100.00% [100/100 00:26<00:00 Images downloaded]\n",
       "    </div>\n",
       "    "
      ],
      "text/plain": [
       "<IPython.core.display.HTML object>"
      ]
     },
     "metadata": {},
     "output_type": "display_data"
    },
    {
     "data": {
      "text/plain": [
       "[Path('/home/nghiaht7/fastai-adventure/fastai-lib-playground/bear/black/001_e2f1ebc1.jpg'),\n",
       " Path('/home/nghiaht7/fastai-adventure/fastai-lib-playground/bear/black/002_93d62d6d.jpg'),\n",
       " Path('/home/nghiaht7/fastai-adventure/fastai-lib-playground/bear/black/003_36ffb1fe.jpg'),\n",
       " Path('/home/nghiaht7/fastai-adventure/fastai-lib-playground/bear/black/004_2784baa9.jpg'),\n",
       " Path('/home/nghiaht7/fastai-adventure/fastai-lib-playground/bear/black/005_4f7ae6a9.jpg'),\n",
       " Path('/home/nghiaht7/fastai-adventure/fastai-lib-playground/bear/black/006_d8aa2e62.jpg'),\n",
       " Path('/home/nghiaht7/fastai-adventure/fastai-lib-playground/bear/black/007_bea2257e.jpg'),\n",
       " Path('/home/nghiaht7/fastai-adventure/fastai-lib-playground/bear/black/008_a73a6d48.jpg'),\n",
       " Path('/home/nghiaht7/fastai-adventure/fastai-lib-playground/bear/black/009_2991a04d.jpg'),\n",
       " Path('/home/nghiaht7/fastai-adventure/fastai-lib-playground/bear/black/010_a1a16af8.jpg'),\n",
       " Path('/home/nghiaht7/fastai-adventure/fastai-lib-playground/bear/black/011_05f41bc9.jpg'),\n",
       " Path('/home/nghiaht7/fastai-adventure/fastai-lib-playground/bear/black/012_7b96332e.jpg'),\n",
       " Path('/home/nghiaht7/fastai-adventure/fastai-lib-playground/bear/black/013_e54203be.jpg'),\n",
       " Path('/home/nghiaht7/fastai-adventure/fastai-lib-playground/bear/black/014_5c0bb332.jpg'),\n",
       " Path('/home/nghiaht7/fastai-adventure/fastai-lib-playground/bear/black/015_bbb8df8d.jpg'),\n",
       " Path('/home/nghiaht7/fastai-adventure/fastai-lib-playground/bear/black/016_1bee1a90.jpg'),\n",
       " Path('/home/nghiaht7/fastai-adventure/fastai-lib-playground/bear/black/017_4cdfea25.jpg'),\n",
       " Path('/home/nghiaht7/fastai-adventure/fastai-lib-playground/bear/black/018_47dd1b00.jpg'),\n",
       " Path('/home/nghiaht7/fastai-adventure/fastai-lib-playground/bear/black/019_8d858e2a.jpg'),\n",
       " Path('/home/nghiaht7/fastai-adventure/fastai-lib-playground/bear/black/020_383c46ec.jpg'),\n",
       " Path('/home/nghiaht7/fastai-adventure/fastai-lib-playground/bear/black/021_b00e566c.jpg'),\n",
       " Path('/home/nghiaht7/fastai-adventure/fastai-lib-playground/bear/black/022_a0fe0b28.jpg'),\n",
       " Path('/home/nghiaht7/fastai-adventure/fastai-lib-playground/bear/black/023_ffaeb0dc.jpg'),\n",
       " Path('/home/nghiaht7/fastai-adventure/fastai-lib-playground/bear/black/024_09c7b7dc.jpg'),\n",
       " Path('/home/nghiaht7/fastai-adventure/fastai-lib-playground/bear/black/025_8068ed93.jpg'),\n",
       " Path('/home/nghiaht7/fastai-adventure/fastai-lib-playground/bear/black/026_853a796a.jpg'),\n",
       " Path('/home/nghiaht7/fastai-adventure/fastai-lib-playground/bear/black/027_5dd2fce7.jpg'),\n",
       " Path('/home/nghiaht7/fastai-adventure/fastai-lib-playground/bear/black/028_a03ba13b.jpg'),\n",
       " Path('/home/nghiaht7/fastai-adventure/fastai-lib-playground/bear/black/029_3f24b7be.jpg'),\n",
       " Path('/home/nghiaht7/fastai-adventure/fastai-lib-playground/bear/black/030_6c5aa1b2.jpg'),\n",
       " Path('/home/nghiaht7/fastai-adventure/fastai-lib-playground/bear/black/031_4c88f475.jpg'),\n",
       " Path('/home/nghiaht7/fastai-adventure/fastai-lib-playground/bear/black/032_433c0753.jpg'),\n",
       " Path('/home/nghiaht7/fastai-adventure/fastai-lib-playground/bear/black/033_f741ed12.jpg'),\n",
       " Path('/home/nghiaht7/fastai-adventure/fastai-lib-playground/bear/black/034_90129984.jpg'),\n",
       " Path('/home/nghiaht7/fastai-adventure/fastai-lib-playground/bear/black/035_2a7f516a.jpg'),\n",
       " Path('/home/nghiaht7/fastai-adventure/fastai-lib-playground/bear/black/036_1ebcd5ef.jpg'),\n",
       " Path('/home/nghiaht7/fastai-adventure/fastai-lib-playground/bear/black/037_c4097fc5.jpg'),\n",
       " Path('/home/nghiaht7/fastai-adventure/fastai-lib-playground/bear/black/038_c7fb14e3.jpg'),\n",
       " Path('/home/nghiaht7/fastai-adventure/fastai-lib-playground/bear/black/039_a4b8a5e0.jpg'),\n",
       " Path('/home/nghiaht7/fastai-adventure/fastai-lib-playground/bear/black/040_fb38210f.jpg'),\n",
       " Path('/home/nghiaht7/fastai-adventure/fastai-lib-playground/bear/black/041_25fc0e6e.jpg'),\n",
       " Path('/home/nghiaht7/fastai-adventure/fastai-lib-playground/bear/black/042_b620361a.jpg'),\n",
       " Path('/home/nghiaht7/fastai-adventure/fastai-lib-playground/bear/black/043_c1c92bde.jpg'),\n",
       " Path('/home/nghiaht7/fastai-adventure/fastai-lib-playground/bear/black/044_728c0c71.jpg'),\n",
       " Path('/home/nghiaht7/fastai-adventure/fastai-lib-playground/bear/black/045_ed3fa233.jpg'),\n",
       " Path('/home/nghiaht7/fastai-adventure/fastai-lib-playground/bear/black/046_c31954cd.jpg'),\n",
       " Path('/home/nghiaht7/fastai-adventure/fastai-lib-playground/bear/black/047_0f66c09e.jpg'),\n",
       " Path('/home/nghiaht7/fastai-adventure/fastai-lib-playground/bear/black/048_e2d94af9.jpg'),\n",
       " Path('/home/nghiaht7/fastai-adventure/fastai-lib-playground/bear/black/049_c4939b29.jpg'),\n",
       " Path('/home/nghiaht7/fastai-adventure/fastai-lib-playground/bear/black/050_051d6be6.jpg'),\n",
       " Path('/home/nghiaht7/fastai-adventure/fastai-lib-playground/bear/black/051_2274ff30.jpg'),\n",
       " Path('/home/nghiaht7/fastai-adventure/fastai-lib-playground/bear/black/052_fe5c8540.jpg'),\n",
       " Path('/home/nghiaht7/fastai-adventure/fastai-lib-playground/bear/black/053_7a3b2226.jpg'),\n",
       " Path('/home/nghiaht7/fastai-adventure/fastai-lib-playground/bear/black/054_79fd9474.jpg'),\n",
       " Path('/home/nghiaht7/fastai-adventure/fastai-lib-playground/bear/black/055_43fc874a.jpg'),\n",
       " Path('/home/nghiaht7/fastai-adventure/fastai-lib-playground/bear/black/056_8eaaa955.jpg'),\n",
       " Path('/home/nghiaht7/fastai-adventure/fastai-lib-playground/bear/black/057_f3b5d997.jpg'),\n",
       " Path('/home/nghiaht7/fastai-adventure/fastai-lib-playground/bear/black/058_94851854.jpg'),\n",
       " Path('/home/nghiaht7/fastai-adventure/fastai-lib-playground/bear/black/059_fa70071b.jpg'),\n",
       " Path('/home/nghiaht7/fastai-adventure/fastai-lib-playground/bear/black/060_c2a82a25.jpg'),\n",
       " Path('/home/nghiaht7/fastai-adventure/fastai-lib-playground/bear/black/061_3c7de63f.jpg'),\n",
       " Path('/home/nghiaht7/fastai-adventure/fastai-lib-playground/bear/black/062_99eeed7e.jpg'),\n",
       " Path('/home/nghiaht7/fastai-adventure/fastai-lib-playground/bear/black/063_f0c77250.jpg'),\n",
       " Path('/home/nghiaht7/fastai-adventure/fastai-lib-playground/bear/black/064_03d5b8cd.jpg'),\n",
       " Path('/home/nghiaht7/fastai-adventure/fastai-lib-playground/bear/black/065_ff61d212.jpg'),\n",
       " Path('/home/nghiaht7/fastai-adventure/fastai-lib-playground/bear/black/066_1ed6c85c.jpg'),\n",
       " Path('/home/nghiaht7/fastai-adventure/fastai-lib-playground/bear/black/067_a9f57f47.jpg'),\n",
       " Path('/home/nghiaht7/fastai-adventure/fastai-lib-playground/bear/black/068_0e162dc4.jpg'),\n",
       " Path('/home/nghiaht7/fastai-adventure/fastai-lib-playground/bear/black/069_a782d1d0.jpg'),\n",
       " Path('/home/nghiaht7/fastai-adventure/fastai-lib-playground/bear/black/070_68744983.jpg'),\n",
       " Path('/home/nghiaht7/fastai-adventure/fastai-lib-playground/bear/black/071_0b2ee7ba.jpg'),\n",
       " Path('/home/nghiaht7/fastai-adventure/fastai-lib-playground/bear/black/072_56658950.jpg'),\n",
       " Path('/home/nghiaht7/fastai-adventure/fastai-lib-playground/bear/black/073_af6d2ae3.jpg'),\n",
       " Path('/home/nghiaht7/fastai-adventure/fastai-lib-playground/bear/black/074_bb93936c.jpg'),\n",
       " Path('/home/nghiaht7/fastai-adventure/fastai-lib-playground/bear/black/075_77bb6a01.jpg'),\n",
       " Path('/home/nghiaht7/fastai-adventure/fastai-lib-playground/bear/black/076_d07dd42d.jpg'),\n",
       " Path('/home/nghiaht7/fastai-adventure/fastai-lib-playground/bear/black/077_80bef19f.jpg'),\n",
       " Path('/home/nghiaht7/fastai-adventure/fastai-lib-playground/bear/black/078_5d6b8587.jpg'),\n",
       " Path('/home/nghiaht7/fastai-adventure/fastai-lib-playground/bear/black/079_508219bb.jpg'),\n",
       " Path('/home/nghiaht7/fastai-adventure/fastai-lib-playground/bear/black/080_4f3c9b73.jpg'),\n",
       " Path('/home/nghiaht7/fastai-adventure/fastai-lib-playground/bear/black/081_9730ab68.jpg'),\n",
       " Path('/home/nghiaht7/fastai-adventure/fastai-lib-playground/bear/black/082_ffb2ea53.jpg'),\n",
       " Path('/home/nghiaht7/fastai-adventure/fastai-lib-playground/bear/black/083_f2366163.jpg'),\n",
       " Path('/home/nghiaht7/fastai-adventure/fastai-lib-playground/bear/black/084_229d97ec.jpg'),\n",
       " Path('/home/nghiaht7/fastai-adventure/fastai-lib-playground/bear/black/085_c8fa78bf.jpg'),\n",
       " Path('/home/nghiaht7/fastai-adventure/fastai-lib-playground/bear/black/086_33379f69.jpg'),\n",
       " Path('/home/nghiaht7/fastai-adventure/fastai-lib-playground/bear/black/087_1965bc79.jpg'),\n",
       " Path('/home/nghiaht7/fastai-adventure/fastai-lib-playground/bear/black/088_c4f0369a.jpg'),\n",
       " Path('/home/nghiaht7/fastai-adventure/fastai-lib-playground/bear/black/089_d8b54f02.jpg'),\n",
       " Path('/home/nghiaht7/fastai-adventure/fastai-lib-playground/bear/black/090_767c4093.jpg'),\n",
       " Path('/home/nghiaht7/fastai-adventure/fastai-lib-playground/bear/black/091_5777461f.jpg'),\n",
       " Path('/home/nghiaht7/fastai-adventure/fastai-lib-playground/bear/black/092_4356c6c2.jpg'),\n",
       " Path('/home/nghiaht7/fastai-adventure/fastai-lib-playground/bear/black/093_54da5a76.jpg'),\n",
       " Path('/home/nghiaht7/fastai-adventure/fastai-lib-playground/bear/black/094_0fbf2fcd.jpg'),\n",
       " Path('/home/nghiaht7/fastai-adventure/fastai-lib-playground/bear/black/095_e804ee8c.jpg'),\n",
       " Path('/home/nghiaht7/fastai-adventure/fastai-lib-playground/bear/black/096_69a28d10.jpg'),\n",
       " Path('/home/nghiaht7/fastai-adventure/fastai-lib-playground/bear/black/097_cf24801f.jpg'),\n",
       " Path('/home/nghiaht7/fastai-adventure/fastai-lib-playground/bear/black/098_b34b25cf.jpg'),\n",
       " Path('/home/nghiaht7/fastai-adventure/fastai-lib-playground/bear/black/099_3f390e42.jpg'),\n",
       " Path('/home/nghiaht7/fastai-adventure/fastai-lib-playground/bear/black/100_64666530.jpg')]"
      ]
     },
     "execution_count": 6,
     "metadata": {},
     "output_type": "execute_result"
    }
   ],
   "source": [
    "duckduckgo_search(root,\"black\",\"black bear\",max_results=100)"
   ]
  },
  {
   "cell_type": "code",
   "execution_count": 7,
   "id": "6511e338-ba5d-4979-b205-d4bdc5cd9148",
   "metadata": {},
   "outputs": [
    {
     "name": "stdout",
     "output_type": "stream",
     "text": [
      "Duckduckgo search: teddy bear\n",
      "Downloading results into /home/nghiaht7/fastai-adventure/fastai-lib-playground/bear/teddy\n"
     ]
    },
    {
     "data": {
      "text/html": [
       "\n",
       "    <div>\n",
       "        <style>\n",
       "            /* Turns off some styling */\n",
       "            progress {\n",
       "                /* gets rid of default border in Firefox and Opera. */\n",
       "                border: none;\n",
       "                /* Needs to be in here for Safari polyfill so background images work as expected. */\n",
       "                background-size: auto;\n",
       "            }\n",
       "            .progress-bar-interrupted, .progress-bar-interrupted::-webkit-progress-bar {\n",
       "                background: #F44336;\n",
       "            }\n",
       "        </style>\n",
       "      <progress value='100' class='' max='100' style='width:300px; height:20px; vertical-align: middle;'></progress>\n",
       "      100.00% [100/100 00:28<00:00 Images downloaded]\n",
       "    </div>\n",
       "    "
      ],
      "text/plain": [
       "<IPython.core.display.HTML object>"
      ]
     },
     "metadata": {},
     "output_type": "display_data"
    },
    {
     "data": {
      "text/plain": [
       "[Path('/home/nghiaht7/fastai-adventure/fastai-lib-playground/bear/teddy/001_db2a4842.jpg'),\n",
       " Path('/home/nghiaht7/fastai-adventure/fastai-lib-playground/bear/teddy/002_b4d80524.jpg'),\n",
       " Path('/home/nghiaht7/fastai-adventure/fastai-lib-playground/bear/teddy/003_af338ddd.jpg'),\n",
       " Path('/home/nghiaht7/fastai-adventure/fastai-lib-playground/bear/teddy/004_ab169586.jpg'),\n",
       " Path('/home/nghiaht7/fastai-adventure/fastai-lib-playground/bear/teddy/005_5fbeeecc.jpg'),\n",
       " Path('/home/nghiaht7/fastai-adventure/fastai-lib-playground/bear/teddy/006_409a3adf.jpg'),\n",
       " Path('/home/nghiaht7/fastai-adventure/fastai-lib-playground/bear/teddy/007_df92cd8d.jpg'),\n",
       " Path('/home/nghiaht7/fastai-adventure/fastai-lib-playground/bear/teddy/008_9d3a0147.jpg'),\n",
       " Path('/home/nghiaht7/fastai-adventure/fastai-lib-playground/bear/teddy/009_d5e32dd0.jpg'),\n",
       " Path('/home/nghiaht7/fastai-adventure/fastai-lib-playground/bear/teddy/010_d0fa2254.jpg'),\n",
       " Path('/home/nghiaht7/fastai-adventure/fastai-lib-playground/bear/teddy/011_2484b657.jpg'),\n",
       " Path('/home/nghiaht7/fastai-adventure/fastai-lib-playground/bear/teddy/012_64feddbd.jpg'),\n",
       " Path('/home/nghiaht7/fastai-adventure/fastai-lib-playground/bear/teddy/013_b6397fad.jpg'),\n",
       " Path('/home/nghiaht7/fastai-adventure/fastai-lib-playground/bear/teddy/014_cba7c45f.jpg'),\n",
       " Path('/home/nghiaht7/fastai-adventure/fastai-lib-playground/bear/teddy/015_a751b6dd.jpg'),\n",
       " Path('/home/nghiaht7/fastai-adventure/fastai-lib-playground/bear/teddy/016_5ecb8576.jpg'),\n",
       " Path('/home/nghiaht7/fastai-adventure/fastai-lib-playground/bear/teddy/017_dafa2b33.jpg'),\n",
       " Path('/home/nghiaht7/fastai-adventure/fastai-lib-playground/bear/teddy/018_5b1e7d43.jpg'),\n",
       " Path('/home/nghiaht7/fastai-adventure/fastai-lib-playground/bear/teddy/019_ec936f63.jpg'),\n",
       " Path('/home/nghiaht7/fastai-adventure/fastai-lib-playground/bear/teddy/020_e875f405.jpg'),\n",
       " Path('/home/nghiaht7/fastai-adventure/fastai-lib-playground/bear/teddy/021_76bf8583.jpg'),\n",
       " Path('/home/nghiaht7/fastai-adventure/fastai-lib-playground/bear/teddy/022_b71c6400.jpg'),\n",
       " Path('/home/nghiaht7/fastai-adventure/fastai-lib-playground/bear/teddy/023_6a31d90f.jpg'),\n",
       " Path('/home/nghiaht7/fastai-adventure/fastai-lib-playground/bear/teddy/024_8a3732b6.jpg'),\n",
       " Path('/home/nghiaht7/fastai-adventure/fastai-lib-playground/bear/teddy/025_3698edfd.jpg'),\n",
       " Path('/home/nghiaht7/fastai-adventure/fastai-lib-playground/bear/teddy/026_17b9b08f.jpg'),\n",
       " Path('/home/nghiaht7/fastai-adventure/fastai-lib-playground/bear/teddy/027_075c2cff.jpg'),\n",
       " Path('/home/nghiaht7/fastai-adventure/fastai-lib-playground/bear/teddy/028_82243d26.jpg'),\n",
       " Path('/home/nghiaht7/fastai-adventure/fastai-lib-playground/bear/teddy/029_7d10350d.jpg'),\n",
       " Path('/home/nghiaht7/fastai-adventure/fastai-lib-playground/bear/teddy/030_33670de1.jpg'),\n",
       " Path('/home/nghiaht7/fastai-adventure/fastai-lib-playground/bear/teddy/031_8eb5ca2c.jpg'),\n",
       " Path('/home/nghiaht7/fastai-adventure/fastai-lib-playground/bear/teddy/032_639f0327.jpg'),\n",
       " Path('/home/nghiaht7/fastai-adventure/fastai-lib-playground/bear/teddy/033_b177401d.jpg'),\n",
       " Path('/home/nghiaht7/fastai-adventure/fastai-lib-playground/bear/teddy/034_3bea5952.jpg'),\n",
       " Path('/home/nghiaht7/fastai-adventure/fastai-lib-playground/bear/teddy/035_1ed1533d.jpg'),\n",
       " Path('/home/nghiaht7/fastai-adventure/fastai-lib-playground/bear/teddy/036_13c62e4c.jpg'),\n",
       " Path('/home/nghiaht7/fastai-adventure/fastai-lib-playground/bear/teddy/037_46f7da8e.jpg'),\n",
       " Path('/home/nghiaht7/fastai-adventure/fastai-lib-playground/bear/teddy/038_0f57297e.jpg'),\n",
       " Path('/home/nghiaht7/fastai-adventure/fastai-lib-playground/bear/teddy/039_cbe7f820.jpg'),\n",
       " Path('/home/nghiaht7/fastai-adventure/fastai-lib-playground/bear/teddy/040_a603a150.jpg'),\n",
       " Path('/home/nghiaht7/fastai-adventure/fastai-lib-playground/bear/teddy/041_4c63dbc5.jpg'),\n",
       " Path('/home/nghiaht7/fastai-adventure/fastai-lib-playground/bear/teddy/042_3fc865d3.jpg'),\n",
       " Path('/home/nghiaht7/fastai-adventure/fastai-lib-playground/bear/teddy/043_69fa9174.jpg'),\n",
       " Path('/home/nghiaht7/fastai-adventure/fastai-lib-playground/bear/teddy/044_ddac0561.jpg'),\n",
       " Path('/home/nghiaht7/fastai-adventure/fastai-lib-playground/bear/teddy/045_df033088.jpg'),\n",
       " Path('/home/nghiaht7/fastai-adventure/fastai-lib-playground/bear/teddy/046_b241a825.jpg'),\n",
       " Path('/home/nghiaht7/fastai-adventure/fastai-lib-playground/bear/teddy/047_291d7cb3.jpg'),\n",
       " Path('/home/nghiaht7/fastai-adventure/fastai-lib-playground/bear/teddy/048_023509c7.jpg'),\n",
       " Path('/home/nghiaht7/fastai-adventure/fastai-lib-playground/bear/teddy/049_7f64c510.jpg'),\n",
       " Path('/home/nghiaht7/fastai-adventure/fastai-lib-playground/bear/teddy/050_db93acd2.jpg'),\n",
       " Path('/home/nghiaht7/fastai-adventure/fastai-lib-playground/bear/teddy/051_7637b39b.jpg'),\n",
       " Path('/home/nghiaht7/fastai-adventure/fastai-lib-playground/bear/teddy/052_716e3077.jpg'),\n",
       " Path('/home/nghiaht7/fastai-adventure/fastai-lib-playground/bear/teddy/053_f4cf3a65.jpg'),\n",
       " Path('/home/nghiaht7/fastai-adventure/fastai-lib-playground/bear/teddy/054_7c102933.jpg'),\n",
       " Path('/home/nghiaht7/fastai-adventure/fastai-lib-playground/bear/teddy/055_7c7c8c7d.jpg'),\n",
       " Path('/home/nghiaht7/fastai-adventure/fastai-lib-playground/bear/teddy/056_a654cfe8.jpg'),\n",
       " Path('/home/nghiaht7/fastai-adventure/fastai-lib-playground/bear/teddy/057_669741dd.jpg'),\n",
       " Path('/home/nghiaht7/fastai-adventure/fastai-lib-playground/bear/teddy/058_4f482315.jpg'),\n",
       " Path('/home/nghiaht7/fastai-adventure/fastai-lib-playground/bear/teddy/059_c0d5a3a9.jpg'),\n",
       " Path('/home/nghiaht7/fastai-adventure/fastai-lib-playground/bear/teddy/060_be34e008.jpg'),\n",
       " Path('/home/nghiaht7/fastai-adventure/fastai-lib-playground/bear/teddy/061_0a77a3d5.jpg'),\n",
       " Path('/home/nghiaht7/fastai-adventure/fastai-lib-playground/bear/teddy/062_6340b1c3.jpg'),\n",
       " Path('/home/nghiaht7/fastai-adventure/fastai-lib-playground/bear/teddy/063_982f14f5.jpg'),\n",
       " Path('/home/nghiaht7/fastai-adventure/fastai-lib-playground/bear/teddy/064_d8da018e.jpg'),\n",
       " Path('/home/nghiaht7/fastai-adventure/fastai-lib-playground/bear/teddy/065_5f74e68f.jpg'),\n",
       " Path('/home/nghiaht7/fastai-adventure/fastai-lib-playground/bear/teddy/066_ef5c36d6.jpg'),\n",
       " Path('/home/nghiaht7/fastai-adventure/fastai-lib-playground/bear/teddy/067_357f72ca.jpg'),\n",
       " Path('/home/nghiaht7/fastai-adventure/fastai-lib-playground/bear/teddy/068_39dae6c8.jpg'),\n",
       " Path('/home/nghiaht7/fastai-adventure/fastai-lib-playground/bear/teddy/069_6d1fdfb0.jpg'),\n",
       " Path('/home/nghiaht7/fastai-adventure/fastai-lib-playground/bear/teddy/070_7758fb95.jpg'),\n",
       " Path('/home/nghiaht7/fastai-adventure/fastai-lib-playground/bear/teddy/071_0a3e8752.jpg'),\n",
       " Path('/home/nghiaht7/fastai-adventure/fastai-lib-playground/bear/teddy/072_0b5f9a1d.jpg'),\n",
       " Path('/home/nghiaht7/fastai-adventure/fastai-lib-playground/bear/teddy/073_874ad429.jpg'),\n",
       " Path('/home/nghiaht7/fastai-adventure/fastai-lib-playground/bear/teddy/074_bf7abe0d.jpg'),\n",
       " Path('/home/nghiaht7/fastai-adventure/fastai-lib-playground/bear/teddy/075_c87689b5.jpg'),\n",
       " Path('/home/nghiaht7/fastai-adventure/fastai-lib-playground/bear/teddy/076_6d834c16.jpg'),\n",
       " Path('/home/nghiaht7/fastai-adventure/fastai-lib-playground/bear/teddy/077_7ac4a79c.jpg'),\n",
       " Path('/home/nghiaht7/fastai-adventure/fastai-lib-playground/bear/teddy/078_189d0ef8.jpg'),\n",
       " Path('/home/nghiaht7/fastai-adventure/fastai-lib-playground/bear/teddy/079_f2f9f53c.jpg'),\n",
       " Path('/home/nghiaht7/fastai-adventure/fastai-lib-playground/bear/teddy/080_82524e62.jpg'),\n",
       " Path('/home/nghiaht7/fastai-adventure/fastai-lib-playground/bear/teddy/081_1d9deb83.jpg'),\n",
       " Path('/home/nghiaht7/fastai-adventure/fastai-lib-playground/bear/teddy/082_feae7dfb.jpg'),\n",
       " Path('/home/nghiaht7/fastai-adventure/fastai-lib-playground/bear/teddy/083_10d3d813.jpg'),\n",
       " Path('/home/nghiaht7/fastai-adventure/fastai-lib-playground/bear/teddy/084_11422740.jpg'),\n",
       " Path('/home/nghiaht7/fastai-adventure/fastai-lib-playground/bear/teddy/085_31a5e0bf.jpg'),\n",
       " Path('/home/nghiaht7/fastai-adventure/fastai-lib-playground/bear/teddy/086_ddfd7e26.jpg'),\n",
       " Path('/home/nghiaht7/fastai-adventure/fastai-lib-playground/bear/teddy/087_74c10e20.jpg'),\n",
       " Path('/home/nghiaht7/fastai-adventure/fastai-lib-playground/bear/teddy/088_c3a33615.jpg'),\n",
       " Path('/home/nghiaht7/fastai-adventure/fastai-lib-playground/bear/teddy/089_00062dca.jpg'),\n",
       " Path('/home/nghiaht7/fastai-adventure/fastai-lib-playground/bear/teddy/090_66e04768.jpg'),\n",
       " Path('/home/nghiaht7/fastai-adventure/fastai-lib-playground/bear/teddy/091_99a40964.jpg'),\n",
       " Path('/home/nghiaht7/fastai-adventure/fastai-lib-playground/bear/teddy/092_308e20fe.jpg'),\n",
       " Path('/home/nghiaht7/fastai-adventure/fastai-lib-playground/bear/teddy/093_d8656e2a.jpg'),\n",
       " Path('/home/nghiaht7/fastai-adventure/fastai-lib-playground/bear/teddy/094_b88ca1ae.jpg'),\n",
       " Path('/home/nghiaht7/fastai-adventure/fastai-lib-playground/bear/teddy/095_3a5d8d1f.jpg'),\n",
       " Path('/home/nghiaht7/fastai-adventure/fastai-lib-playground/bear/teddy/096_d8f85251.jpg'),\n",
       " Path('/home/nghiaht7/fastai-adventure/fastai-lib-playground/bear/teddy/097_c3573a70.jpg'),\n",
       " Path('/home/nghiaht7/fastai-adventure/fastai-lib-playground/bear/teddy/098_33c8b335.jpg'),\n",
       " Path('/home/nghiaht7/fastai-adventure/fastai-lib-playground/bear/teddy/099_6ff35446.jpg'),\n",
       " Path('/home/nghiaht7/fastai-adventure/fastai-lib-playground/bear/teddy/100_95be847c.jpg')]"
      ]
     },
     "execution_count": 7,
     "metadata": {},
     "output_type": "execute_result"
    }
   ],
   "source": [
    "duckduckgo_search(root,\"teddy\",\"teddy bear\",max_results=100)"
   ]
  },
  {
   "cell_type": "code",
   "execution_count": 15,
   "id": "c62630c3-e797-4ff2-81f3-a53f101d529f",
   "metadata": {},
   "outputs": [
    {
     "data": {
      "text/plain": [
       "(#300) [Path('/home/nghiaht7/fastai-adventure/fastai-lib-playground/bear/teddy/054_7c102933.jpg'),Path('/home/nghiaht7/fastai-adventure/fastai-lib-playground/bear/teddy/004_ab169586.jpg'),Path('/home/nghiaht7/fastai-adventure/fastai-lib-playground/bear/teddy/032_639f0327.jpg'),Path('/home/nghiaht7/fastai-adventure/fastai-lib-playground/bear/teddy/072_0b5f9a1d.jpg'),Path('/home/nghiaht7/fastai-adventure/fastai-lib-playground/bear/teddy/083_10d3d813.jpg'),Path('/home/nghiaht7/fastai-adventure/fastai-lib-playground/bear/teddy/006_409a3adf.jpg'),Path('/home/nghiaht7/fastai-adventure/fastai-lib-playground/bear/teddy/027_075c2cff.jpg'),Path('/home/nghiaht7/fastai-adventure/fastai-lib-playground/bear/teddy/022_b71c6400.jpg'),Path('/home/nghiaht7/fastai-adventure/fastai-lib-playground/bear/teddy/059_c0d5a3a9.jpg'),Path('/home/nghiaht7/fastai-adventure/fastai-lib-playground/bear/teddy/098_33c8b335.jpg')...]"
      ]
     },
     "execution_count": 15,
     "metadata": {},
     "output_type": "execute_result"
    }
   ],
   "source": [
    "fns = get_image_files(root)\n",
    "fns"
   ]
  },
  {
   "cell_type": "code",
   "execution_count": 16,
   "id": "2a1a1ae9-a159-4156-9e6d-b5711e189d1a",
   "metadata": {},
   "outputs": [
    {
     "data": {
      "text/plain": [
       "(#0) []"
      ]
     },
     "execution_count": 16,
     "metadata": {},
     "output_type": "execute_result"
    }
   ],
   "source": [
    "failed = verify_images(fns)\n",
    "failed"
   ]
  },
  {
   "cell_type": "code",
   "execution_count": 17,
   "id": "e9532af3-9521-4775-918c-89b685f5dae8",
   "metadata": {},
   "outputs": [
    {
     "data": {
      "text/plain": [
       "300"
      ]
     },
     "execution_count": 17,
     "metadata": {},
     "output_type": "execute_result"
    }
   ],
   "source": [
    "len(fns)"
   ]
  },
  {
   "cell_type": "code",
   "execution_count": 19,
   "id": "ae6d2d68-cfa8-4151-813c-13dc3509ad45",
   "metadata": {},
   "outputs": [
    {
     "data": {
      "application/vnd.jupyter.widget-view+json": {
       "model_id": "317778ab0baf4cc597c2baa3eed3ee9d",
       "version_major": 2,
       "version_minor": 0
      },
      "text/plain": [
       "HBox(children=(Button(description='|<<', layout=Layout(width='60px'), style=ButtonStyle()), Button(description…"
      ]
     },
     "metadata": {},
     "output_type": "display_data"
    },
    {
     "data": {
      "application/vnd.jupyter.widget-view+json": {
       "model_id": "d273a506be08420c9367c6f9bc6d955e",
       "version_major": 2,
       "version_minor": 0
      },
      "text/plain": [
       "HTML(value='<h2>No images left to display in this folder.</h2>', layout=Layout(visibility='hidden'))"
      ]
     },
     "metadata": {},
     "output_type": "display_data"
    },
    {
     "data": {
      "application/vnd.jupyter.widget-view+json": {
       "model_id": "aa6060cf445245ddbd141376836445af",
       "version_major": 2,
       "version_minor": 0
      },
      "text/plain": [
       "GridBox(children=(VBox(children=(Image(value=b'', layout=\"Layout(width='150px')\"), Button(description='Delete'…"
      ]
     },
     "metadata": {},
     "output_type": "display_data"
    }
   ],
   "source": [
    "display_image_cleaner(root)"
   ]
  },
  {
   "cell_type": "code",
   "execution_count": null,
   "id": "7733372b-90d6-434c-aae0-b5176b42ed2d",
   "metadata": {},
   "outputs": [],
   "source": []
  }
 ],
 "metadata": {
  "kernelspec": {
   "display_name": "Python 3 (ipykernel)",
   "language": "python",
   "name": "python3"
  },
  "language_info": {
   "codemirror_mode": {
    "name": "ipython",
    "version": 3
   },
   "file_extension": ".py",
   "mimetype": "text/x-python",
   "name": "python",
   "nbconvert_exporter": "python",
   "pygments_lexer": "ipython3",
   "version": "3.8.10"
  }
 },
 "nbformat": 4,
 "nbformat_minor": 5
}
