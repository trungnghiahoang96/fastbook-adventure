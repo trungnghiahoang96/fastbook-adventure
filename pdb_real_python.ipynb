{
 "cells": [
  {
   "cell_type": "code",
   "execution_count": 5,
   "id": "de662cd6-bd6a-4238-b094-ad74507279d5",
   "metadata": {},
   "outputs": [],
   "source": [
    "l = list(range(5))\n",
    "m = list(range(5,10))\n",
    "\n",
    "result = []\n",
    "\n"
   ]
  },
  {
   "cell_type": "code",
   "execution_count": 6,
   "id": "368db554-0a63-486c-8cb8-75651f345050",
   "metadata": {},
   "outputs": [],
   "source": [
    "for item in zip(l, m):\n",
    "    tmp = sum(item)\n",
    "    result.append(tmp)"
   ]
  },
  {
   "cell_type": "code",
   "execution_count": null,
   "id": "fe5bbee6-ccfd-4a48-b277-98c46f553fce",
   "metadata": {},
   "outputs": [],
   "source": [
    "result"
   ]
  },
  {
   "cell_type": "code",
   "execution_count": 10,
   "id": "3009c167-ca2e-48ad-8372-30e6f6ff722a",
   "metadata": {},
   "outputs": [
    {
     "data": {
      "text/plain": [
       "99"
      ]
     },
     "execution_count": 10,
     "metadata": {},
     "output_type": "execute_result"
    }
   ],
   "source": [
    "import random\n",
    "import pdb\n",
    "def find_max (values):\n",
    "    max = 0\n",
    "#    import pdb; pdb.set_trace()\n",
    "#     breakpoint()\n",
    "    for val in values:\n",
    "        if val > max:\n",
    "            max = val\n",
    "    return max\n",
    "find_max(random.sample(range(100), 10))"
   ]
  },
  {
   "cell_type": "code",
   "execution_count": 11,
   "id": "cd56a525-c457-489a-b0e6-09baa2bf035a",
   "metadata": {},
   "outputs": [
    {
     "name": "stdout",
     "output_type": "stream",
     "text": [
      "path = \n"
     ]
    }
   ],
   "source": [
    "\n",
    "import os\n",
    "\n",
    "\n",
    "def get_path(filename):\n",
    "    \"\"\"Return file's path or empty string if no path.\"\"\"\n",
    "    head, tail = os.path.split(filename)\n",
    "#     import pdb; pdb.set_trace()\n",
    "    return head\n",
    "\n",
    "filename = 'mybear_model.pkl'\n",
    "print(f'path = {get_path(filename)}')"
   ]
  },
  {
   "cell_type": "code",
   "execution_count": null,
   "id": "68882c38-09f0-4d3e-9ecd-5e3cd210b97f",
   "metadata": {},
   "outputs": [],
   "source": []
  },
  {
   "cell_type": "code",
   "execution_count": null,
   "id": "ad3ec70e-36d2-4b35-ac4d-aba705408be3",
   "metadata": {},
   "outputs": [],
   "source": []
  },
  {
   "cell_type": "code",
   "execution_count": null,
   "id": "5929113d-b3b7-4da8-b69d-ca6c2a9258bb",
   "metadata": {},
   "outputs": [],
   "source": []
  },
  {
   "cell_type": "markdown",
   "id": "b13c8f40-5c00-4162-9c41-15282f444c4c",
   "metadata": {},
   "source": [
    "https://realpython.com/python-debugging-pdb/"
   ]
  },
  {
   "cell_type": "code",
   "execution_count": null,
   "id": "28d39f44-86c0-4861-a7e1-8fc0bc11d07d",
   "metadata": {},
   "outputs": [],
   "source": []
  },
  {
   "cell_type": "code",
   "execution_count": null,
   "id": "aca34967-9b7e-4249-b098-f10a177889ad",
   "metadata": {},
   "outputs": [],
   "source": []
  },
  {
   "cell_type": "code",
   "execution_count": null,
   "id": "877a9cd7-2678-41f9-b81d-e54d1d0fd4bd",
   "metadata": {},
   "outputs": [],
   "source": []
  }
 ],
 "metadata": {
  "kernelspec": {
   "display_name": "Python 3 (ipykernel)",
   "language": "python",
   "name": "python3"
  },
  "language_info": {
   "codemirror_mode": {
    "name": "ipython",
    "version": 3
   },
   "file_extension": ".py",
   "mimetype": "text/x-python",
   "name": "python",
   "nbconvert_exporter": "python",
   "pygments_lexer": "ipython3",
   "version": "3.8.10"
  }
 },
 "nbformat": 4,
 "nbformat_minor": 5
}
